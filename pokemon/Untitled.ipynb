{
 "cells": [
  {
   "cell_type": "code",
   "execution_count": 1,
   "metadata": {},
   "outputs": [],
   "source": [
    "class Pokemon():\n",
    "    def __init__(self, nome_para_construcao, tipo, hp):\n",
    "        self.nome = nome_para_construcao\n",
    "        self.tipo = tipo\n",
    "        self.hp = hp\n",
    "    \n",
    "    def aumentar_hp(self, hp):\n",
    "        self.hp += hp\n",
    "        \n",
    "class Treinador():\n",
    "    # Toda vez que usamos argumentos opcionais (com valores default)\n",
    "    # tudo à direita deve ter um valor default também\n",
    "    def __init__(self, nome = 'Ash', cidade = 'Pallet'):\n",
    "        self.nome = nome\n",
    "        self.cidade = cidade\n",
    "        self.pokemons = []\n",
    "        self.pokemons_secundarios = []\n",
    "    \n",
    "    def capturar(self, pokemon_selvagem):\n",
    "        if not isinstance(pokemon_selvagem, Pokemon):\n",
    "            return 'Não é um pokémon!'\n",
    "        else:\n",
    "            if self.pokemons.count >= 6:\n",
    "                escolha = input('Já tem 6 pokemons, deseja colocar na sua coleção secundária? (S/N): ')\n",
    "                if escolha == 'S':\n",
    "                    self.pokemons_secundarios.append(pokemon_selvagem)\n",
    "                    return 'Guardado!'\n",
    "                else:\n",
    "                    return 'Não Capturado nem guardado'\n",
    "            self.pokemons.append(pokemon_selvagem)\n",
    "            return 'Capturado!'"
   ]
  },
  {
   "cell_type": "code",
   "execution_count": 3,
   "metadata": {},
   "outputs": [
    {
     "ename": "TypeError",
     "evalue": "__init__() missing 3 required positional arguments: 'nome_para_construcao', 'tipo', and 'hp'",
     "output_type": "error",
     "traceback": [
      "\u001b[1;31m---------------------------------------------------------------------------\u001b[0m",
      "\u001b[1;31mTypeError\u001b[0m                                 Traceback (most recent call last)",
      "\u001b[1;32m<ipython-input-3-3c0ef8f486b9>\u001b[0m in \u001b[0;36m<module>\u001b[1;34m\u001b[0m\n\u001b[1;32m----> 1\u001b[1;33m \u001b[0mash\u001b[0m \u001b[1;33m=\u001b[0m \u001b[0mPokemon\u001b[0m\u001b[1;33m(\u001b[0m\u001b[1;33m)\u001b[0m\u001b[1;33m\u001b[0m\u001b[1;33m\u001b[0m\u001b[0m\n\u001b[0m",
      "\u001b[1;31mTypeError\u001b[0m: __init__() missing 3 required positional arguments: 'nome_para_construcao', 'tipo', and 'hp'"
     ]
    }
   ],
   "source": [
    "ash = Pokemon()"
   ]
  },
  {
   "cell_type": "code",
   "execution_count": null,
   "metadata": {},
   "outputs": [],
   "source": []
  }
 ],
 "metadata": {
  "kernelspec": {
   "display_name": "Python 3",
   "language": "python",
   "name": "python3"
  },
  "language_info": {
   "codemirror_mode": {
    "name": "ipython",
    "version": 3
   },
   "file_extension": ".py",
   "mimetype": "text/x-python",
   "name": "python",
   "nbconvert_exporter": "python",
   "pygments_lexer": "ipython3",
   "version": "3.7.3"
  }
 },
 "nbformat": 4,
 "nbformat_minor": 2
}
