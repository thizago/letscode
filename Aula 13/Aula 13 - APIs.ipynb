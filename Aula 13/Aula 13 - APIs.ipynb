{
 "cells": [
  {
   "cell_type": "markdown",
   "metadata": {},
   "source": [
    "## Aula 13 - APIs"
   ]
  },
  {
   "cell_type": "code",
   "execution_count": 1,
   "metadata": {},
   "outputs": [],
   "source": [
    "import requests"
   ]
  },
  {
   "cell_type": "code",
   "execution_count": 18,
   "metadata": {},
   "outputs": [
    {
     "name": "stdout",
     "output_type": "stream",
     "text": [
      "87\n"
     ]
    }
   ],
   "source": [
    "url = 'https://swapi.co/api/people/'\n",
    "response = requests.get(url)\n",
    "response_json = response.json()\n",
    "#print(response_json)\n",
    "print(response_json['count'])"
   ]
  },
  {
   "cell_type": "code",
   "execution_count": null,
   "metadata": {},
   "outputs": [],
   "source": []
  },
  {
   "cell_type": "code",
   "execution_count": 19,
   "metadata": {},
   "outputs": [],
   "source": [
    "from tkinter import *\n",
    "class TkUrlImage():\n",
    "    def __init__(self, window, url, width = 400, height = 400):\n",
    "        self.url = url\n",
    "        self.window = window\n",
    "        self.width = width\n",
    "        self.height = height\n",
    "\n",
    "        raw_data = requests.get(self.url, stream=True).raw.data\n",
    "        im = Image.open(io.BytesIO(raw_data))\n",
    "        self.image = ImageTk.PhotoImage(im)\n",
    "        self.me = Label(self.window, image=self.image, width=self.width, height=self.height)\n",
    "    \n",
    "    def as_label(self):\n",
    "        return self.me\n",
    "        \n",
    "    "
   ]
  },
  {
   "cell_type": "code",
   "execution_count": 1,
   "metadata": {},
   "outputs": [
    {
     "ename": "NameError",
     "evalue": "name 'TkUrlImage' is not defined",
     "output_type": "error",
     "traceback": [
      "\u001b[1;31m---------------------------------------------------------------------------\u001b[0m",
      "\u001b[1;31mNameError\u001b[0m                                 Traceback (most recent call last)",
      "\u001b[1;32m<ipython-input-1-91cba121a7c2>\u001b[0m in \u001b[0;36m<module>\u001b[1;34m\u001b[0m\n\u001b[0;32m     35\u001b[0m         \u001b[1;32mreturn\u001b[0m \u001b[0mr_json\u001b[0m\u001b[1;33m[\u001b[0m\u001b[1;34m'file'\u001b[0m\u001b[1;33m]\u001b[0m\u001b[1;33m\u001b[0m\u001b[1;33m\u001b[0m\u001b[0m\n\u001b[0;32m     36\u001b[0m \u001b[1;33m\u001b[0m\u001b[0m\n\u001b[1;32m---> 37\u001b[1;33m \u001b[0mm\u001b[0m \u001b[1;33m=\u001b[0m \u001b[0mMeowner\u001b[0m\u001b[1;33m(\u001b[0m\u001b[1;33m)\u001b[0m\u001b[1;33m\u001b[0m\u001b[1;33m\u001b[0m\u001b[0m\n\u001b[0m",
      "\u001b[1;32m<ipython-input-1-91cba121a7c2>\u001b[0m in \u001b[0;36m__init__\u001b[1;34m(self)\u001b[0m\n\u001b[0;32m     14\u001b[0m         \u001b[0mself\u001b[0m\u001b[1;33m.\u001b[0m\u001b[0mbtn_update\u001b[0m\u001b[1;33m.\u001b[0m\u001b[0mpack\u001b[0m\u001b[1;33m(\u001b[0m\u001b[1;33m)\u001b[0m\u001b[1;33m\u001b[0m\u001b[1;33m\u001b[0m\u001b[0m\n\u001b[0;32m     15\u001b[0m \u001b[1;33m\u001b[0m\u001b[0m\n\u001b[1;32m---> 16\u001b[1;33m         \u001b[0mself\u001b[0m\u001b[1;33m.\u001b[0m\u001b[0mupdate_cat\u001b[0m\u001b[1;33m(\u001b[0m\u001b[1;33m)\u001b[0m\u001b[1;33m\u001b[0m\u001b[1;33m\u001b[0m\u001b[0m\n\u001b[0m\u001b[0;32m     17\u001b[0m \u001b[1;33m\u001b[0m\u001b[0m\n\u001b[0;32m     18\u001b[0m         \u001b[0mself\u001b[0m\u001b[1;33m.\u001b[0m\u001b[0mjanela\u001b[0m\u001b[1;33m.\u001b[0m\u001b[0mmainloop\u001b[0m\u001b[1;33m(\u001b[0m\u001b[1;33m)\u001b[0m\u001b[1;33m\u001b[0m\u001b[1;33m\u001b[0m\u001b[0m\n",
      "\u001b[1;32m<ipython-input-1-91cba121a7c2>\u001b[0m in \u001b[0;36mupdate_cat\u001b[1;34m(self)\u001b[0m\n\u001b[0;32m     26\u001b[0m \u001b[1;33m\u001b[0m\u001b[0m\n\u001b[0;32m     27\u001b[0m         \u001b[0mself\u001b[0m\u001b[1;33m.\u001b[0m\u001b[0mcat_img_url\u001b[0m \u001b[1;33m=\u001b[0m \u001b[0mself\u001b[0m\u001b[1;33m.\u001b[0m\u001b[0mget_random_cat\u001b[0m\u001b[1;33m(\u001b[0m\u001b[1;33m)\u001b[0m\u001b[1;33m\u001b[0m\u001b[1;33m\u001b[0m\u001b[0m\n\u001b[1;32m---> 28\u001b[1;33m         \u001b[0mself\u001b[0m\u001b[1;33m.\u001b[0m\u001b[0mimage\u001b[0m \u001b[1;33m=\u001b[0m \u001b[0mTkUrlImage\u001b[0m\u001b[1;33m(\u001b[0m\u001b[0mwindow\u001b[0m\u001b[1;33m=\u001b[0m\u001b[0mself\u001b[0m\u001b[1;33m.\u001b[0m\u001b[0mjanela\u001b[0m\u001b[1;33m,\u001b[0m \u001b[0murl\u001b[0m\u001b[1;33m=\u001b[0m\u001b[0mself\u001b[0m\u001b[1;33m.\u001b[0m\u001b[0mcat_img_url\u001b[0m\u001b[1;33m,\u001b[0m \u001b[0mwidth\u001b[0m\u001b[1;33m=\u001b[0m\u001b[1;36m600\u001b[0m\u001b[1;33m,\u001b[0m \u001b[0mheight\u001b[0m\u001b[1;33m=\u001b[0m\u001b[1;36m400\u001b[0m\u001b[1;33m)\u001b[0m\u001b[1;33m.\u001b[0m\u001b[0mas_label\u001b[0m\u001b[1;33m(\u001b[0m\u001b[1;33m)\u001b[0m\u001b[1;33m\u001b[0m\u001b[1;33m\u001b[0m\u001b[0m\n\u001b[0m\u001b[0;32m     29\u001b[0m         \u001b[0mself\u001b[0m\u001b[1;33m.\u001b[0m\u001b[0mimage\u001b[0m\u001b[1;33m.\u001b[0m\u001b[0mpack\u001b[0m\u001b[1;33m(\u001b[0m\u001b[1;33m)\u001b[0m\u001b[1;33m\u001b[0m\u001b[1;33m\u001b[0m\u001b[0m\n\u001b[0;32m     30\u001b[0m \u001b[1;33m\u001b[0m\u001b[0m\n",
      "\u001b[1;31mNameError\u001b[0m: name 'TkUrlImage' is not defined"
     ]
    }
   ],
   "source": [
    "import requests\n",
    "import io\n",
    "from tkinter import *\n",
    "from PIL import Image, ImageTk\n",
    "\n",
    "class Meowner():\n",
    "    def __init__(self):\n",
    "        self.janela = Tk()\n",
    "        self.janela.title('Meowner')\n",
    "        self.janela.geometry('800x600')\n",
    "        self.janela.tk_setPalette(background= '#7e7d80', foreground = '#ffFF00', activeBackground = 'blue')\n",
    "        \n",
    "        self.btn_update = Button(self.janela, text='OTRO GATO!', command=self.update_cat)\n",
    "        self.btn_update.pack()\n",
    "        \n",
    "        self.update_cat()\n",
    "        \n",
    "        self.janela.mainloop()\n",
    "        \n",
    "        \n",
    "    def update_cat(self):\n",
    "        try:\n",
    "            self.image.destroy()\n",
    "        except:\n",
    "            pass\n",
    "        \n",
    "        self.cat_img_url = self.get_random_cat()\n",
    "        self.image = TkUrlImage(window=self.janela, url=self.cat_img_url, width=600, height=400).as_label()\n",
    "        self.image.pack()\n",
    "\n",
    "    def get_random_cat(self):\n",
    "        url = 'https://aws.random.cat/meow'\n",
    "        r = requests.get(url)\n",
    "        r_json = r.json()\n",
    "        return r_json['file']\n",
    "\n",
    "m = Meowner()"
   ]
  },
  {
   "cell_type": "code",
   "execution_count": null,
   "metadata": {},
   "outputs": [],
   "source": [
    "import requests\n",
    "import io\n",
    "from tkinter import *\n",
    "from PIL import Image, ImageTk\n",
    "\n",
    "class Meowner():\n",
    "    def __init__(self):\n",
    "        self.janela = Tk()\n",
    "        self.janela.title('Meowner')\n",
    "        self.janela.geometry('800x600')\n",
    "        self.janela.tk_setPalette(background= '#7e7d80', foreground = '#ffFF00', activeBackground = 'blue')\n",
    "        \n",
    "        self.btn_update = Button(self.janela, text='OTRO GATO!', command=self.update_cat)\n",
    "        self.btn_update.pack()\n",
    "        \n",
    "        self.update_cat()\n",
    "        \n",
    "        self.janela.mainloop()\n",
    "        \n",
    "        \n",
    "    def update_cat(self):\n",
    "        self.cat_img_url = self.get_random_cat()\n",
    "        self.image = self.get_tkinter_image(self.cat_img_url)\n",
    "        try:\n",
    "            self.label.destroy()\n",
    "        except:\n",
    "            pass\n",
    "        self.label = Label(self.janela, image=self.image, width=600, height=400)\n",
    "        self.label.pack()\n",
    "        \n",
    "    def get_tkinter_image(self, img_url):\n",
    "        raw_data = requests.get(img_url, stream=True).raw.data\n",
    "        im = Image.open(io.BytesIO(raw_data))\n",
    "        image = ImageTk.PhotoImage(im)\n",
    "        return image\n",
    "\n",
    "    def get_random_cat(self):\n",
    "        url = 'https://aws.random.cat/meow'\n",
    "        r = requests.get(url)\n",
    "        r_json = r.json()\n",
    "        return r_json['file']\n",
    "\n",
    "m = Meowner()"
   ]
  },
  {
   "cell_type": "markdown",
   "metadata": {},
   "source": [
    "## Gatoflix - Com API Requests"
   ]
  },
  {
   "cell_type": "code",
   "execution_count": 2,
   "metadata": {},
   "outputs": [],
   "source": [
    "import requests\n",
    "import csv\n",
    "import io\n",
    "from tkinter import *\n",
    "from tkinter import messagebox\n",
    "from PIL import Image, ImageTk\n",
    "\n",
    "class Gatoflix():\n",
    "    def __init__(self):\n",
    "        self.base_filmes = self.get_movie_base()\n",
    "        self.do_layout()\n",
    "\n",
    "    def get_movie_base(self):\n",
    "        base = {}\n",
    "        with open('movies.csv', 'r') as file:\n",
    "            reader = csv.DictReader(file)\n",
    "            for row in reader:\n",
    "                titulo = row['title']\n",
    "                base[titulo] = row\n",
    "                \n",
    "        return base\n",
    "    \n",
    "    def do_movie_detail(self, evt):\n",
    "        widget = evt.widget # isso volta o listbox que foi clicado\n",
    "        index = widget.curselection()\n",
    "        titulo_filme = widget.get(index)\n",
    "        \n",
    "        omdb_info = self.fetch_omdb_detail(titulo_filme)\n",
    "        if omdb_info is not None:\n",
    "            self.update_labels(omdb_info)\n",
    "    \n",
    "    def fetch_omdb_detail(self, title):\n",
    "        # Aqui vc faz a requisição para a API do OMDB\n",
    "        '''\n",
    "            esse método tem que voltar um dicionário com as seguintes\n",
    "            chaves:\n",
    "            title, year, plot, awards e poster\n",
    "        '''\n",
    "        pass\n",
    "        \n",
    "    def update_labels(self, infos):\n",
    "        self.label_movie_title['text'] = '{}'.format(infos['title'])\n",
    "        self.label_year['text'] = 'Ano: {}'.format(infos['year'])\n",
    "        self.label_awards['text'] = 'Prêmios: {}'.format(infos['awards'])\n",
    "        self.set_poster(infos['poster'], self.frame_image)\n",
    "        \n",
    "    def set_poster(self, url, window):\n",
    "        self.image = self.get_tkinter_image(url)\n",
    "        try:\n",
    "            self.label_img.destroy()\n",
    "        except:\n",
    "            pass\n",
    "        self.label_img = Label(window, image=self.image, width=600, height=400)\n",
    "        self.label_img.pack()\n",
    "        \n",
    "    def get_tkinter_image(self, img_url):\n",
    "        raw_data = requests.get(img_url, stream=True).raw.data\n",
    "        im = Image.open(io.BytesIO(raw_data))\n",
    "        image = ImageTk.PhotoImage(im)\n",
    "        return image\n",
    "        \n",
    "    \n",
    "    def do_layout(self):\n",
    "        self.janela = Tk()\n",
    "        self.janela.title('GATOFLIX')\n",
    "        self.janela.geometry('1024x768')\n",
    "        \n",
    "        lbl_programa = Label(self.janela, text = \"Gatoflix\", font=('arial', 40, 'bold'))\n",
    "        lbl_programa.pack()\n",
    "        \n",
    "        frame_detalhe = Frame(self.janela)\n",
    "        frame_detalhe.pack(side = TOP)\n",
    "        \n",
    "        self.list_box = Listbox(frame_detalhe, width = 45)\n",
    "        self.list_box.bind('<<ListboxSelect>>', self.do_movie_detail)\n",
    "        self.list_box.pack()\n",
    "        \n",
    "        self.info = Frame(self.janela)\n",
    "        self.info.pack(side=LEFT)\n",
    "        \n",
    "        self.label_movie_title = Label(self.info, text = \"Aqui vai o texto\", font=('arial', 32, 'italic'))\n",
    "        self.label_movie_title.pack(side=TOP)\n",
    "                \n",
    "        self.label_year = Label(self.info, text = \"Ano: ----\", font=('arial', 20, 'bold'))\n",
    "        self.label_year.pack(side=TOP)\n",
    "        \n",
    "        self.label_awards = Label(self.info, text = \"Prêmios: ----\", font=('arial', 20, 'bold'))\n",
    "        self.label_awards.pack(side=TOP)\n",
    "        \n",
    "        # Inserindo no final do list box o titulo de cada filme\n",
    "        # da base carregada no início\n",
    "        for filme in sorted(self.base_filmes.keys()):\n",
    "            self.list_box.insert(END, filme)\n",
    "            \n",
    "        self.frame_image = Frame(self.janela)\n",
    "        self.frame_image.pack(side=LEFT)\n",
    "            \n",
    "        url = 'https://m.media-amazon.com/images/M/MV5BMDU2ZWJlMjktMTRhMy00ZTA5LWEzNDgtYmNmZTEwZTViZWJkXkEyXkFqcGdeQXVyNDQ2OTk4MzI@._V1_SX300.jpg'\n",
    "        self.set_poster(url, self.frame_image)\n",
    "        \n",
    "        self.janela.mainloop()"
   ]
  },
  {
   "cell_type": "code",
   "execution_count": 3,
   "metadata": {},
   "outputs": [
    {
     "ename": "FileNotFoundError",
     "evalue": "[Errno 2] No such file or directory: 'movies.csv'",
     "output_type": "error",
     "traceback": [
      "\u001b[1;31m---------------------------------------------------------------------------\u001b[0m",
      "\u001b[1;31mFileNotFoundError\u001b[0m                         Traceback (most recent call last)",
      "\u001b[1;32m<ipython-input-3-867979174cb2>\u001b[0m in \u001b[0;36m<module>\u001b[1;34m\u001b[0m\n\u001b[1;32m----> 1\u001b[1;33m \u001b[0mgatoflix\u001b[0m \u001b[1;33m=\u001b[0m \u001b[0mGatoflix\u001b[0m\u001b[1;33m(\u001b[0m\u001b[1;33m)\u001b[0m\u001b[1;33m\u001b[0m\u001b[1;33m\u001b[0m\u001b[0m\n\u001b[0m",
      "\u001b[1;32m<ipython-input-2-27ef758d3fd0>\u001b[0m in \u001b[0;36m__init__\u001b[1;34m(self)\u001b[0m\n\u001b[0;32m      8\u001b[0m \u001b[1;32mclass\u001b[0m \u001b[0mGatoflix\u001b[0m\u001b[1;33m(\u001b[0m\u001b[1;33m)\u001b[0m\u001b[1;33m:\u001b[0m\u001b[1;33m\u001b[0m\u001b[1;33m\u001b[0m\u001b[0m\n\u001b[0;32m      9\u001b[0m     \u001b[1;32mdef\u001b[0m \u001b[0m__init__\u001b[0m\u001b[1;33m(\u001b[0m\u001b[0mself\u001b[0m\u001b[1;33m)\u001b[0m\u001b[1;33m:\u001b[0m\u001b[1;33m\u001b[0m\u001b[1;33m\u001b[0m\u001b[0m\n\u001b[1;32m---> 10\u001b[1;33m         \u001b[0mself\u001b[0m\u001b[1;33m.\u001b[0m\u001b[0mbase_filmes\u001b[0m \u001b[1;33m=\u001b[0m \u001b[0mself\u001b[0m\u001b[1;33m.\u001b[0m\u001b[0mget_movie_base\u001b[0m\u001b[1;33m(\u001b[0m\u001b[1;33m)\u001b[0m\u001b[1;33m\u001b[0m\u001b[1;33m\u001b[0m\u001b[0m\n\u001b[0m\u001b[0;32m     11\u001b[0m         \u001b[0mself\u001b[0m\u001b[1;33m.\u001b[0m\u001b[0mdo_layout\u001b[0m\u001b[1;33m(\u001b[0m\u001b[1;33m)\u001b[0m\u001b[1;33m\u001b[0m\u001b[1;33m\u001b[0m\u001b[0m\n\u001b[0;32m     12\u001b[0m \u001b[1;33m\u001b[0m\u001b[0m\n",
      "\u001b[1;32m<ipython-input-2-27ef758d3fd0>\u001b[0m in \u001b[0;36mget_movie_base\u001b[1;34m(self)\u001b[0m\n\u001b[0;32m     13\u001b[0m     \u001b[1;32mdef\u001b[0m \u001b[0mget_movie_base\u001b[0m\u001b[1;33m(\u001b[0m\u001b[0mself\u001b[0m\u001b[1;33m)\u001b[0m\u001b[1;33m:\u001b[0m\u001b[1;33m\u001b[0m\u001b[1;33m\u001b[0m\u001b[0m\n\u001b[0;32m     14\u001b[0m         \u001b[0mbase\u001b[0m \u001b[1;33m=\u001b[0m \u001b[1;33m{\u001b[0m\u001b[1;33m}\u001b[0m\u001b[1;33m\u001b[0m\u001b[1;33m\u001b[0m\u001b[0m\n\u001b[1;32m---> 15\u001b[1;33m         \u001b[1;32mwith\u001b[0m \u001b[0mopen\u001b[0m\u001b[1;33m(\u001b[0m\u001b[1;34m'movies.csv'\u001b[0m\u001b[1;33m,\u001b[0m \u001b[1;34m'r'\u001b[0m\u001b[1;33m)\u001b[0m \u001b[1;32mas\u001b[0m \u001b[0mfile\u001b[0m\u001b[1;33m:\u001b[0m\u001b[1;33m\u001b[0m\u001b[1;33m\u001b[0m\u001b[0m\n\u001b[0m\u001b[0;32m     16\u001b[0m             \u001b[0mreader\u001b[0m \u001b[1;33m=\u001b[0m \u001b[0mcsv\u001b[0m\u001b[1;33m.\u001b[0m\u001b[0mDictReader\u001b[0m\u001b[1;33m(\u001b[0m\u001b[0mfile\u001b[0m\u001b[1;33m)\u001b[0m\u001b[1;33m\u001b[0m\u001b[1;33m\u001b[0m\u001b[0m\n\u001b[0;32m     17\u001b[0m             \u001b[1;32mfor\u001b[0m \u001b[0mrow\u001b[0m \u001b[1;32min\u001b[0m \u001b[0mreader\u001b[0m\u001b[1;33m:\u001b[0m\u001b[1;33m\u001b[0m\u001b[1;33m\u001b[0m\u001b[0m\n",
      "\u001b[1;31mFileNotFoundError\u001b[0m: [Errno 2] No such file or directory: 'movies.csv'"
     ]
    }
   ],
   "source": [
    "gatoflix = Gatoflix()"
   ]
  },
  {
   "cell_type": "code",
   "execution_count": null,
   "metadata": {},
   "outputs": [],
   "source": []
  }
 ],
 "metadata": {
  "kernelspec": {
   "display_name": "Python 3",
   "language": "python",
   "name": "python3"
  },
  "language_info": {
   "codemirror_mode": {
    "name": "ipython",
    "version": 3
   },
   "file_extension": ".py",
   "mimetype": "text/x-python",
   "name": "python",
   "nbconvert_exporter": "python",
   "pygments_lexer": "ipython3",
   "version": "3.7.3"
  }
 },
 "nbformat": 4,
 "nbformat_minor": 2
}
