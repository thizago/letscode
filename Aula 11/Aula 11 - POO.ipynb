{
 "cells": [
  {
   "cell_type": "markdown",
   "metadata": {},
   "source": [
    "## Aula 11 - Praticando Orientação a Objetos"
   ]
  },
  {
   "cell_type": "markdown",
   "metadata": {},
   "source": [
    "1. Crie uma classe Televisão e uma classe controle remoto que pode controlar o volume e trocar os canais da televisão. O controle de volume permite:\n",
    "\n",
    "    - aumentar ou diminuir a potência do volume de som em uma unidade de cada vez; \n",
    "    - trocar para um canal indicado; \n",
    "    - consultar o valor do volume de som e o canal selecionado."
   ]
  },
  {
   "cell_type": "code",
   "execution_count": 47,
   "metadata": {},
   "outputs": [],
   "source": [
    "class Televisao():\n",
    "    def __init__(self, volume = 5, canal = 1):\n",
    "        self.volume = volume\n",
    "        self.canal = canal\n",
    "        \n",
    "    def get_volume_atual(self):\n",
    "        return self.volume\n",
    "        \n",
    "        \n",
    "    def mudar_canal(self,canal):\n",
    "        self.canal = canal\n",
    "    \n",
    "    def mudar_volume(self,valor):\n",
    "        if valor == 1 and self.volume == 10:\n",
    "            pass\n",
    "        elif valor == -1 and self.volume == 0:\n",
    "            pass\n",
    "        else:\n",
    "            self.volume += valor\n",
    "        \n",
    "class Remoto():\n",
    "    def __init__(self, tv):\n",
    "        self.tv = tv\n",
    "        \n",
    "        \n",
    "        \n",
    "    def aperta_aumenta(self):\n",
    "        self.tv.mudar_volume(1)\n",
    "        \n",
    "    def aperta_diminui(self):\n",
    "        self.tv.mudar_volume(-1)\n",
    "    \n",
    "    def clicar_canal(numero):\n",
    "        self.tv.mudar_canal(numero)\n",
    "        \n",
    "        \n",
    "        \n",
    "        \n",
    "        "
   ]
  },
  {
   "cell_type": "code",
   "execution_count": 48,
   "metadata": {},
   "outputs": [],
   "source": [
    "sony = Televisao()"
   ]
  },
  {
   "cell_type": "code",
   "execution_count": 49,
   "metadata": {},
   "outputs": [
    {
     "name": "stdout",
     "output_type": "stream",
     "text": [
      "1\n"
     ]
    }
   ],
   "source": [
    "print (sony.canal)"
   ]
  },
  {
   "cell_type": "code",
   "execution_count": 51,
   "metadata": {},
   "outputs": [],
   "source": [
    "controlesony = Remoto(sony)"
   ]
  },
  {
   "cell_type": "code",
   "execution_count": 54,
   "metadata": {},
   "outputs": [
    {
     "name": "stdout",
     "output_type": "stream",
     "text": [
      "2\n"
     ]
    }
   ],
   "source": [
    "controlesony.aperta_diminui()\n",
    "print (sony.get_volume_atual())"
   ]
  },
  {
   "cell_type": "markdown",
   "metadata": {},
   "source": [
    "2. Um cliente pediu que criássemos um sistema de agenda. Essa agenda deve ser capaz de armazenar os contatos, fazendo operações de inclusão, remoção, busca e listagem. Escreva as classes e métodos que você imagina para resolver esse problema usando orientação a objetos.\n",
    "\n",
    "*dica: crie um método e coloque a palavra `pass` para que ele exista mas não seja implementado*\n",
    "\n",
    "    def metodo(self):\n",
    "        pass"
   ]
  },
  {
   "cell_type": "code",
   "execution_count": null,
   "metadata": {},
   "outputs": [],
   "source": [
    "class Agenda():\n",
    "    def __init__(self):\n",
    "        pass\n",
    "    def adicionar_contato(self):\n",
    "        pass\n",
    "    \n",
    "    def remover_contato(self, contato):\n",
    "        pass\n",
    "    \n",
    "    def busca (self, contato):\n",
    "        pass\n",
    "    \n",
    "    def lista_contatos(self):\n",
    "        pass\n",
    "    \n",
    "\n",
    "class Contato():\n",
    "    pass\n",
    "\n",
    "class \n"
   ]
  },
  {
   "cell_type": "markdown",
   "metadata": {},
   "source": [
    "3. Construa uma classe Bola cujos atributos são raio e cor. Crie métodos para exibir o objeto (raio e cor), para calcular a área (obs. a área da esfera é `4*pi*r*r/3`) e para calcular o volume (obs. o volume de uma esfera é `4*pi*r**3`)."
   ]
  },
  {
   "cell_type": "code",
   "execution_count": 1,
   "metadata": {},
   "outputs": [
    {
     "name": "stdout",
     "output_type": "stream",
     "text": [
      "339292.00658769766\n"
     ]
    }
   ],
   "source": [
    "import math\n",
    "\n",
    "class Bola():\n",
    "    \n",
    "    def __init__(self, raio, cor):\n",
    "        self.raio = raio\n",
    "        self.cor = cor\n",
    "        \n",
    "    def get_area(self):\n",
    "        return (4*math.pi*(self.raio**2))/3\n",
    "    \n",
    "    def get_volume(self):\n",
    "        return 4*math.pi*(self.raio**3)\n",
    "    \n",
    "futebol = Bola(30,'vermelha')\n",
    "\n",
    "print (futebol.get_volume())\n",
    "        "
   ]
  },
  {
   "cell_type": "markdown",
   "metadata": {},
   "source": [
    "4. Vamos fazer um sistema para um banco bem pequeno, que está começando agora. Precisamos começar a codificar a primeira versão do back-end, usando python e orientação a objetos. A classe Cliente já está definida, possuindo os atributos `nome`, `email` e `cpf`. Agora precisamos criar a **conta bancária**. Toda conta bancária deve:\n",
    "    - Ter o atributo cliente\n",
    "    - Ter como sacar uma quantidade de dinheiro\n",
    "    - Ter como depositar uma quantidade de dinheiro\n",
    "    - Poder transferir uma quantidade de dinheiro para outra conta"
   ]
  },
  {
   "cell_type": "code",
   "execution_count": 3,
   "metadata": {},
   "outputs": [],
   "source": [
    "class Cliente():\n",
    "    def __init__(self, nome, email, cpf):\n",
    "        self.nome = nome\n",
    "        self.email = email\n",
    "        self.cpf = cpf\n",
    "    def __repr__(self):\n",
    "        return 'Nome: {}\\nEmail:{}\\nCPF: {}'.format(self.nome, self.email, self.cpf)"
   ]
  },
  {
   "cell_type": "code",
   "execution_count": 14,
   "metadata": {},
   "outputs": [],
   "source": [
    "class Conta():\n",
    "    def __init__(self, cliente, saldo = 0,):\n",
    "        self.cliente = cliente\n",
    "        self.saldo = saldo\n",
    "        \n",
    "    def sacar(self, valor):\n",
    "        if valor > self.saldo:\n",
    "            return ('Saldo insuficiente.')\n",
    "        elif valor < 0:\n",
    "            return ('Valor de saque negativo.')\n",
    "        else:\n",
    "            self.saldo -= valor\n",
    "            print ('Sacado {} reais da conta de {}. Saldo atualizado: {} reais.'.format(valor,self.cliente.nome,self.saldo))\n",
    "    def depositar(self, valor):\n",
    "        if valor < 0:\n",
    "            print ('Valor deposito negativo.')\n",
    "        else:\n",
    "            self.saldo += valor\n",
    "            print ('Depositado {} reais da conta de {}. Saldo atualizado: {} reais.'.format(valor,self.cliente.nome,self.saldo))\n",
    "    def transferir(self,valor, quem_recebe):\n",
    "        \n",
    "        self.sacar(valor)\n",
    "        quem_recebe.depositar(valor)\n",
    "        return ('ok')\n",
    "       \n",
    "            "
   ]
  },
  {
   "cell_type": "code",
   "execution_count": 15,
   "metadata": {},
   "outputs": [],
   "source": [
    "thiago = Cliente('Thiago Rosa','thizago@com','89u348u3452834589')"
   ]
  },
  {
   "cell_type": "code",
   "execution_count": 16,
   "metadata": {},
   "outputs": [],
   "source": [
    "ctathiago = Conta(thiago)"
   ]
  },
  {
   "cell_type": "code",
   "execution_count": 17,
   "metadata": {},
   "outputs": [],
   "source": [
    "camila = Cliente('Camila O', 'camila@gg', '78456872345')"
   ]
  },
  {
   "cell_type": "code",
   "execution_count": 18,
   "metadata": {},
   "outputs": [],
   "source": [
    "ctacamila = Conta(camila)"
   ]
  },
  {
   "cell_type": "code",
   "execution_count": 26,
   "metadata": {},
   "outputs": [
    {
     "name": "stdout",
     "output_type": "stream",
     "text": [
      "Sacado 5 reais da conta de Camila O. Saldo atualizado: 1989 reais.\n",
      "Depositado 5 reais da conta de Thiago Rosa. Saldo atualizado: 13 reais.\n"
     ]
    },
    {
     "data": {
      "text/plain": [
       "'ok'"
      ]
     },
     "execution_count": 26,
     "metadata": {},
     "output_type": "execute_result"
    }
   ],
   "source": [
    "ctacamila.transferir(5, ctathiago)"
   ]
  },
  {
   "cell_type": "code",
   "execution_count": 22,
   "metadata": {},
   "outputs": [
    {
     "name": "stdout",
     "output_type": "stream",
     "text": [
      "Depositado 1000 reais da conta de Camila O. Saldo atualizado: 2000 reais.\n"
     ]
    }
   ],
   "source": [
    "ctacamila.depositar(1000)"
   ]
  },
  {
   "cell_type": "markdown",
   "metadata": {},
   "source": [
    "5. Estamos construindo nossa base para o jogo do pokémon simplificado. Basicamente, são pequenos monstros que podem ser capturados e usados em batalhas com outros pequenos monstros. Um `Treinador` é uma pessoa que tem um `nome`, `pokebolas` e `pokemons`. Um `Pokemon` tem `nome`, `tipo`, `hp`, `som` e `dano` (quanto de dano dá numa batalha). \n",
    "\n",
    "    Um treinador pode capturar um pokemon, desde que tenha pokébolas disponíveis. Um pokemon pode atacar algo, desde que esse algo seja um pokémon também. Se ele tentar atacar outro pokémon, ele mesmo reduz sua vida em 10 pontos.\n",
    "\n",
    "    Essas duas representações são dadas:"
   ]
  },
  {
   "cell_type": "code",
   "execution_count": null,
   "metadata": {},
   "outputs": [],
   "source": []
  },
  {
   "cell_type": "code",
   "execution_count": 2,
   "metadata": {},
   "outputs": [],
   "source": [
    "import random\n",
    "\n",
    "class Treinador():\n",
    "    def __init__(self, nome, pokemons = []):\n",
    "        self.nome = nome\n",
    "        self.pokemons = pokemons\n",
    "        self.pokebolas = 1\n",
    "\n",
    "    def trocar(self, outro_treinador):\n",
    "        pass\n",
    "    \n",
    "    # Tenta capturar um pokémon\n",
    "    def capturar(self, pokemon):\n",
    "        if self.pokebolas == 0:\n",
    "            return 'No pokeballs!'\n",
    "        \n",
    "        if random.randint(0, 100) > 20:\n",
    "            self.pokemons.append(pokemon)\n",
    "            return '{} added to your pokedex!'.format(pokemon.nome)\n",
    "        else:\n",
    "            return '{} ran away!'.format(pokemon.nome)\n",
    "        self.pokebolas -= 1\n",
    "\n",
    "    def get_pokemon_number(self):\n",
    "        return len(self.pokemons)\n",
    "    \n",
    "class Pokemon():\n",
    "    def __init__(self, nome, tipo, hp, som = 'hmm', dano = 10):\n",
    "        # atributos da classe\n",
    "        self.nome = nome\n",
    "        self.tipo = tipo\n",
    "        self.hp = hp\n",
    "        self.som = som\n",
    "        self.dano = dano\n",
    "    \n",
    "    def __repr__(self):\n",
    "        return '{}, do tipo {} <{}>'.format(self.nome, self.tipo, self.som)\n",
    "\n",
    "    def get_hp(self):\n",
    "        return self.hp\n",
    "    def aumentar_hp(self, quantidade):\n",
    "        self.hp += quantidade\n",
    "    def diminuir_hp(self, quantidade):\n",
    "        self.hp -= quantidade\n",
    "    def emitir_som(self):\n",
    "        return '<POKESOM> {}'.format(self.som)\n",
    "    \n",
    "    def atacar(self, outro_pokemon):\n",
    "        if not isinstance(outro_pokemon, Pokemon):\n",
    "            self.diminuir_hp(10)\n",
    "            return\n",
    "        \n",
    "        outro_pokemon.diminuir_hp(self.dano)"
   ]
  },
  {
   "cell_type": "markdown",
   "metadata": {},
   "source": [
    "Primeiro, leia e entenda o que as classes acima estão fazendo. Relacione com os atributos com as descrições de características e os métodos com as ações de cada objeto.\n",
    "Agora, os desafios:\n",
    "\n",
    "1. Como fazer com que um pokemon não tenha vida negativa quando sofre um ataque?\n",
    "2. Precisamos fazer um upgrade no jogo para permitir o uso de itens! Para isso, vamos assumir que um treinador tem uma `Mochila` para guardar esses itens. Cada mochila pode receber, no máximo, 15 itens. Cada `Item` tem um nome e uma ação. Nós não precisamos programa a ação do item.\n",
    "    2.1 Como fazemos para representar essa mochila?\n",
    "    2.2 Como fazemos para que o treinador tenha uma mochila? \n",
    "    2.3 Como fazemos para representar um item?\n",
    "    2.4 Como fazemos para colocar itens na mochila do treinador? Imagine que o treinador encontrou um item no jogo, como programamos para que seja possível adicioná-lo na mochila?\n",
    "    2.5 Como podemos saber se a mochila está vazia ou cheia?\n",
    "3. Pense em como podemos fazer com que um treinador possa usar um item em um pokémon."
   ]
  },
  {
   "cell_type": "code",
   "execution_count": null,
   "metadata": {},
   "outputs": [],
   "source": []
  }
 ],
 "metadata": {
  "kernelspec": {
   "display_name": "Python 3",
   "language": "python",
   "name": "python3"
  },
  "language_info": {
   "codemirror_mode": {
    "name": "ipython",
    "version": 3
   },
   "file_extension": ".py",
   "mimetype": "text/x-python",
   "name": "python",
   "nbconvert_exporter": "python",
   "pygments_lexer": "ipython3",
   "version": "3.7.3"
  }
 },
 "nbformat": 4,
 "nbformat_minor": 2
}
