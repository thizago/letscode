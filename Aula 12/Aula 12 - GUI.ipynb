{
 "cells": [
  {
   "cell_type": "markdown",
   "metadata": {},
   "source": [
    "## Aula 12 - Graphic User Interface (GUI)\n",
    "\n",
    "Nós utilizamos programas todos os dias em nossas vidas. Ao invés de utilizarmos suas funcionalidades como linhas de comando, normalmente usamos alguma biblioteca ou arcabouço que nos permite criar uma interface com o usuário. O Python nos dá o pacote [`Tkinter`](https://docs.python.org/3/library/tkinter.html) para podermos criar as interfaces dos nossos programas.\n",
    "\n",
    "---"
   ]
  },
  {
   "cell_type": "markdown",
   "metadata": {},
   "source": [
    "### Como usar o Tkinter\n",
    "\n",
    "Basta importar a biblioteca para seu programa. "
   ]
  },
  {
   "cell_type": "code",
   "execution_count": 2,
   "metadata": {},
   "outputs": [],
   "source": [
    "from tkinter import *"
   ]
  },
  {
   "cell_type": "markdown",
   "metadata": {},
   "source": [
    "Antes de começar os exemplos, é importante apresentar alguns conceitos básicos com que a biblioteca trabalha, e que na verdade são muito comuns no desenvolvimento de interfaces.\n",
    "\n",
    "O primeiro deles, é o contêiner. O contêiner nada mais é do que uma espécie de retângulo para guardar componentes mais específicos do nosso layout, ou até mesmo outros contêineres. Aliado aos contêineres, temos os `widgets`. Os `widgets` são os componentes com que o usuário irá interagir diretamente. O conceito por trás dos botões, caixas de\n",
    "textos e menus de seleção, são exemplos de `widgets`.\n",
    "\n",
    "Até aqui, falamos apenas da parte visual das interfaces. O que já sabemos que um programa funcional não se faz apenas com interfaces, por isso vamos agora falar das interações. As interações do usuário com os widgets, serão gerenciadas pelos chamados `Event Handlers`, funções que serão executadas a partir de interações específicas do usuário em cada widget. \n",
    "\n",
    "Os `Event Handlers`, no entanto, não trabalham sozinhos nessa parte funcional do nosso programa. Para que um `Event Handler` seja chamado, é preciso que haja um `Event Loop`, que são aqueles que têm o papel de “observar” as ações do usuário para designar o `Event Handler` responsável. Com esses pontos explicados, vamos então começar."
   ]
  },
  {
   "cell_type": "code",
   "execution_count": 17,
   "metadata": {},
   "outputs": [],
   "source": [
    "main_window = Tk()\n",
    "\n",
    "main_window.title('Nossa primeira janela')\n",
    "main_window.geometry('1024x768')\n",
    "main_window.tk_setPalette(background=\"#1D3E5D\", foreground=\"#DFC036\", activeBackground=\"#2b2c29\")\n",
    "\n",
    "main_window.mainloop()"
   ]
  },
  {
   "cell_type": "markdown",
   "metadata": {},
   "source": [
    "Depois disso, basta instanciar a classe e definir alguns atributos, como o título, através do método `title()`, o tamanho, com o método `geometry()`, que recebe os parâmetros de largura e altura em pixels, separados por um `x`; e ainda as cores padrão usadas na janela, e seus componentes com `tk_setPalette()`.\n",
    "\n",
    "Existem três formas de alocar widgets nas janelas (e contêineres) usando o Tkinter: `pack()`, `grid()` e `place()`. O método `pack()` é provavelmente o mais simples dos três. Se usado sem qualquer parâmetro, ele apenas aloca o elemento no contêiner definido como “pai” do elemento, por padrão no topo do contêiner e centralizado."
   ]
  },
  {
   "cell_type": "markdown",
   "metadata": {},
   "source": [
    "Para demonstrar o uso do método `pack()`, utilizamos um botão da classe `Button()` do `Tkinter`. Os parâmetros de declaração de boa parte dos widgets seguem o padrão acima, embora os parâmetros text e bg não sejam obrigatórios. O primeiro parâmetro que passamos é sempre o contêiner a que o widget pertence, nesse caso, a própria janela.\n",
    "\n",
    "O método de alocação `pack()` aceita alguns parâmetros para posicionamento dos elementos, tais quais:\n",
    "- fill: este parâmetro pode receber como valor as constantes X, Y, ou BOTH. Indica se o elemento que está sendo posicionado deve preencher a extensão horizontal, vertical ou ambas, respectivamente, do contêiner a que pertence. \n",
    "- side: este parâmetro aceita as constantes LEFT, RIGHT, TOP e BOTTOM, ou as strings “left”, “right”, “top”, e “bottom”, correspondentes, usadas para definir uma “âncora” para o nosso elemento. Toda vez que possuímos mais de um elemento na mesma âncora ‒ - LEFT, por exemplo -, é como se disséssemos a cada elemento que vai sendo posicionado, para estar o mais à esquerda possível, sem sobrepor o elemento já posicionado, claro.\n",
    "- expand: este parâmetro recebe um valor booleano que indica se o widget pode ou não expandir para ocupar o valor disponível no elemento externo. Por padrão, os elementos ancorados em TOP ou BOTTOM são permitidos expandir horizontalmente se fill=X, e os ancorados em LEFT ou RIGHT podem expandir verticalmente se fill=Y, mesmo com expand=false. No entanto, se este valor for True, não importando a âncora, o elemento será capaz de expandir para qualquer que seja o sentido especificado em fill.\n",
    "- padx, pady: estes parâmetros determinam o espaçamento externo entre widgets na horizontal/vertical.\n",
    "- ipadx, ipady: estes parâmetros determinam o espaçamento interno dos widgets na horizontal/vertical.\n",
    "\n",
    "É importante ressaltar que esta abordagem não é a mais comum, ou mesmo a mais funcional, de dispor os elementos. Ao invés de incluí-los diretamente na janela principal, como demonstrado, o mais comum seria utilizar um contêiner interno para abrigá-los. Para isso, usamos os Frames. \n",
    "\n",
    "Os Frames, são também exemplos de widgets, mas não possuem função similar aos demais. Os Frames são usados apenas para abrigar outros elementos, como retângulos invisíveis (ou em alguns casos, visíveis) para ajudar na organização dos elementos. Repare que como foi omitido o valor de side para os Frames e Buttons, estes foram posicionados centralizados ao topo do elemento mais externo. No caso dos Frames, como há concorrência de âncoras no contêiner externo, ganha prioridade o primeiro a ser declarado.\n",
    "\n",
    "Além dos botões, outros widgets padrão podem ser utilizados nas nossas telas, como os Labels, que são textos simples, normalmente usados em conjunto com um campo de entrada de dados, que pode ser uma caixa de texto, de seleção, entre outras opções. Veja abaixo:"
   ]
  },
  {
   "cell_type": "code",
   "execution_count": 28,
   "metadata": {},
   "outputs": [],
   "source": [
    "janela = Tk()\n",
    "\n",
    "def adiciona_label():\n",
    "    lbl = Label(janela, text = 'OOOOI, MUNDO')\n",
    "    lbl.pack()\n",
    "\n",
    "janela.title('Oi, mundo')\n",
    "janela.geometry('800x600')\n",
    "    \n",
    "btnOiMundo = Button(janela, text=\"CLICA AQUI\", command=adiciona_label)\n",
    "btnOiMundo.pack()\n",
    "\n",
    "janela.mainloop()"
   ]
  },
  {
   "cell_type": "code",
   "execution_count": 29,
   "metadata": {},
   "outputs": [],
   "source": [
    "main_window = Tk()\n",
    "main_window.title('Login form')\n",
    "\n",
    "frame_1 = Frame(main_window)\n",
    "frame_1.pack()\n",
    "\n",
    "Label(frame_1, text='Login: ').pack(side=LEFT)\n",
    "Entry(frame_1).pack(side=LEFT)\n",
    "\n",
    "frame_2 = Frame(main_window)\n",
    "frame_2.pack()\n",
    "\n",
    "Label(frame_2, text='Password: ').pack(side=LEFT)\n",
    "Entry(frame_2, show='*').pack(side=LEFT)\n",
    "\n",
    "frame_3 = Frame(main_window)\n",
    "frame_3.pack()\n",
    "\n",
    "btnLogin = Button(frame_3, text=\"Login\")\n",
    "btnLogin.pack()\n",
    "\n",
    "main_window.mainloop()"
   ]
  },
  {
   "cell_type": "markdown",
   "metadata": {},
   "source": [
    "Repare que organizar o layout se utilizando apenas do método `pack()` acaba sendo extremamente cansativo e nada intuitivo. Vamos apresentar então o próximo método de organização, que é o grid(). Este método nos permite organizar os widgets em formato de tabela, informando a cada momento, a linha (row) e coluna (column) em que deve estar presente o elemento que estamos alocando.\n",
    "\n",
    "Além dos parâmetros row e column, é muito comum o uso dos parâmetros columnspan e rowspan. Estes parâmetros que permitem que um determinado elemento ocupe mais de uma coluna (columnspan) e/ou mais de uma linha (rowspan):\n",
    "\n",
    "Saindo um pouco do campo apenas visual, vamos começar a entender como podemos tratar eventos ou disparar funções de acordo com a interação com alguns elementos da tela. Primeiramente, vamos falar sobre o botão. Afinal, todo mundo espera algum retorno a partir do clique de um botão. Quando declaramos um Button() do Tkinter, há um parâmetro que ainda não exploramos, o command. Esse parâmetro recebe uma função que será executada quando o botão for clicado:"
   ]
  },
  {
   "cell_type": "code",
   "execution_count": 34,
   "metadata": {},
   "outputs": [],
   "source": [
    "from tkinter import messagebox\n",
    "\n",
    "def valida_login():\n",
    "    login_inputado = input_login.get()\n",
    "    senha_inputada = input_senha.get()\n",
    "    \n",
    "    if '@' not in login_inputado:\n",
    "        messagebox.showinfo(\"ERRO!\", \"Login deve ser um email\")\n",
    "    elif login_inputado == 'admin@gmail.com' and senha_inputada == 'admin':\n",
    "        messagebox.showinfo(\"EBA\", \"Login efetuado!\")\n",
    "    else:\n",
    "        messagebox.showinfo(\"OPS\", \"Algo de errado não está certo\")\n",
    "    \n",
    "main_window = Tk()\n",
    "main_window.title('Login form')\n",
    "\n",
    "frame_1 = Frame(main_window)\n",
    "frame_1.pack(fill=BOTH, expand=True)\n",
    "\n",
    "Label(frame_1, text='Login: ').grid()\n",
    "input_login = Entry(frame_1)\n",
    "input_login.grid(row=0, column=1)\n",
    "\n",
    "Label(frame_1, text='Password: ').grid(row=1)\n",
    "# Criando um objeto do tipo Entry, que representa o campo\n",
    "# de texto para a senha\n",
    "input_senha = Entry(frame_1, show='*')\n",
    "# Posicionando o campo de texto na segunda linha e segunda coluna\n",
    "input_senha.grid(row=1, column=1)\n",
    "\n",
    "btnLogin = Button(frame_1, text=\"Login\", command=valida_login)\n",
    "btnLogin.grid(row=2, columnspan=2)\n",
    "\n",
    "\n",
    "    \n",
    "\n",
    "main_window.mainloop()"
   ]
  },
  {
   "cell_type": "markdown",
   "metadata": {},
   "source": [
    "## Exemplo de Jokenpo simples"
   ]
  },
  {
   "cell_type": "code",
   "execution_count": null,
   "metadata": {},
   "outputs": [],
   "source": [
    "from tkinter import *\n",
    "from tkinter import messagebox\n",
    "import random\n",
    "\n",
    "def escolheu_papel():\n",
    "    verifica_vencedor('papel')\n",
    "\n",
    "def escolheu_pedra():\n",
    "    verifica_vencedor('pedra')\n",
    "\n",
    "def escolheu_tesoura():\n",
    "    verifica_vencedor('tesoura')\n",
    "\n",
    "def escolha_computador():\n",
    "    return random.choice(['pedra', 'papel', 'tesoura'])\n",
    "\n",
    "def verifica_vencedor(escolha):\n",
    "    pc = escolha_computador()\n",
    "    vencedor = ''\n",
    "    if escolha == 'papel':\n",
    "        if pc == 'tesoura':\n",
    "            vencedor = 'pc'\n",
    "        elif pc == 'pedra':\n",
    "            vencedor = 'vc'\n",
    "        else:\n",
    "            vencedor = 'em'\n",
    "    elif escolha == 'tesoura':\n",
    "        if pc == 'tesoura':\n",
    "            vencedor = 'em'\n",
    "        elif pc == 'pedra':\n",
    "            vencedor = 'pc'\n",
    "        else:\n",
    "            vencedor = 'vc'\n",
    "    elif escolha == 'pedra':\n",
    "        if pc == 'tesoura':\n",
    "            vencedor = 'vc'\n",
    "        elif pc == 'pedra':\n",
    "            vencedor = 'em'\n",
    "        else:\n",
    "            vencedor = 'pc'\n",
    "\n",
    "    if vencedor == 'pc':\n",
    "        messagebox.showinfo('OPA', 'HÁ {} vence {}'.format(pc, escolha))\n",
    "    elif vencedor == 'vc':\n",
    "        messagebox.showinfo('OPA', 'Droga... {} vence {}. Bom jogo!'.format(escolha, pc))\n",
    "    else:\n",
    "        messagebox.showinfo('OPA',  'Empate!! {} não ganha de {}'.format(escolha, pc))\n",
    "\n",
    "janela = Tk()\n",
    "janela.title('Jo ken po')\n",
    "janela.tk_setPalette(background= '#000050', foreground = '#ff0000', activeBackground = 'blue')\n",
    "\n",
    "frame_escolha = Frame(janela)\n",
    "frame_escolha.pack()\n",
    "\n",
    "pedra = Button(frame_escolha, text = 'PEDRA', background='#005000', foreground = '#000000', activebackground = 'red', font = ('arial', 20, 'bold'), width = 10, height = 10, command = escolheu_pedra)\n",
    "papel = Button(frame_escolha, text = 'PAPEL', background='#005000', foreground = '#000000', activebackground = 'red', font = ('arial', 20, 'bold'), width = 10, height = 10, command = escolheu_papel)\n",
    "tesoura = Button(frame_escolha, text = 'TESOURA', background='#005000', foreground = '#000000', activebackground = 'red', font = ('arial', 20, 'bold'), width = 10, height = 10, command = escolheu_tesoura)\n",
    "\n",
    "pedra.pack(side=LEFT)\n",
    "papel.pack(side=LEFT)\n",
    "tesoura.pack(side=LEFT)\n",
    "\n",
    "computadorLabel = Label(janela, text = 'Tô te esperando...')\n",
    "computadorLabel.pack(fill=BOTH)\n",
    "\n",
    "janela.mainloop()"
   ]
  },
  {
   "cell_type": "markdown",
   "metadata": {},
   "source": [
    "## Gatoflix"
   ]
  },
  {
   "cell_type": "code",
   "execution_count": 3,
   "metadata": {},
   "outputs": [
    {
     "ename": "UnicodeDecodeError",
     "evalue": "'charmap' codec can't decode byte 0x81 in position 4015: character maps to <undefined>",
     "output_type": "error",
     "traceback": [
      "\u001b[1;31m---------------------------------------------------------------------------\u001b[0m",
      "\u001b[1;31mUnicodeDecodeError\u001b[0m                        Traceback (most recent call last)",
      "\u001b[1;32m<ipython-input-3-785e500b0a02>\u001b[0m in \u001b[0;36m<module>\u001b[1;34m\u001b[0m\n\u001b[0;32m     63\u001b[0m         \u001b[0mself\u001b[0m\u001b[1;33m.\u001b[0m\u001b[0mlblGenres\u001b[0m\u001b[1;33m.\u001b[0m\u001b[0mgrid\u001b[0m\u001b[1;33m(\u001b[0m\u001b[0mrow\u001b[0m\u001b[1;33m=\u001b[0m\u001b[1;36m1\u001b[0m\u001b[1;33m,\u001b[0m \u001b[0mcolumn\u001b[0m\u001b[1;33m=\u001b[0m\u001b[1;36m0\u001b[0m\u001b[1;33m)\u001b[0m\u001b[1;33m\u001b[0m\u001b[1;33m\u001b[0m\u001b[0m\n\u001b[0;32m     64\u001b[0m \u001b[1;33m\u001b[0m\u001b[0m\n\u001b[1;32m---> 65\u001b[1;33m \u001b[0mgato\u001b[0m \u001b[1;33m=\u001b[0m \u001b[0mGatoflix\u001b[0m\u001b[1;33m(\u001b[0m\u001b[1;33m)\u001b[0m\u001b[1;33m\u001b[0m\u001b[1;33m\u001b[0m\u001b[0m\n\u001b[0m\u001b[0;32m     66\u001b[0m \u001b[0mgato\u001b[0m\u001b[1;33m.\u001b[0m\u001b[0mstart\u001b[0m\u001b[1;33m(\u001b[0m\u001b[1;33m)\u001b[0m\u001b[1;33m\u001b[0m\u001b[1;33m\u001b[0m\u001b[0m\n",
      "\u001b[1;32m<ipython-input-3-785e500b0a02>\u001b[0m in \u001b[0;36m__init__\u001b[1;34m(self)\u001b[0m\n\u001b[0;32m      5\u001b[0m     \u001b[1;32mdef\u001b[0m \u001b[0m__init__\u001b[0m\u001b[1;33m(\u001b[0m\u001b[0mself\u001b[0m\u001b[1;33m)\u001b[0m\u001b[1;33m:\u001b[0m\u001b[1;33m\u001b[0m\u001b[1;33m\u001b[0m\u001b[0m\n\u001b[0;32m      6\u001b[0m         \u001b[0mself\u001b[0m\u001b[1;33m.\u001b[0m\u001b[0mfilmes\u001b[0m \u001b[1;33m=\u001b[0m \u001b[1;33m{\u001b[0m\u001b[1;33m}\u001b[0m\u001b[1;33m\u001b[0m\u001b[1;33m\u001b[0m\u001b[0m\n\u001b[1;32m----> 7\u001b[1;33m         \u001b[0mself\u001b[0m\u001b[1;33m.\u001b[0m\u001b[0mpopula_filmes\u001b[0m\u001b[1;33m(\u001b[0m\u001b[1;33m)\u001b[0m\u001b[1;33m\u001b[0m\u001b[1;33m\u001b[0m\u001b[0m\n\u001b[0m\u001b[0;32m      8\u001b[0m         \u001b[0mself\u001b[0m\u001b[1;33m.\u001b[0m\u001b[0mcria_interface\u001b[0m\u001b[1;33m(\u001b[0m\u001b[1;33m)\u001b[0m\u001b[1;33m\u001b[0m\u001b[1;33m\u001b[0m\u001b[0m\n\u001b[0;32m      9\u001b[0m \u001b[1;33m\u001b[0m\u001b[0m\n",
      "\u001b[1;32m<ipython-input-3-785e500b0a02>\u001b[0m in \u001b[0;36mpopula_filmes\u001b[1;34m(self)\u001b[0m\n\u001b[0;32m     11\u001b[0m         \u001b[1;32mwith\u001b[0m \u001b[0mopen\u001b[0m\u001b[1;33m(\u001b[0m\u001b[1;34m'movies.csv'\u001b[0m\u001b[1;33m)\u001b[0m \u001b[1;32mas\u001b[0m \u001b[0marquivo_csv\u001b[0m\u001b[1;33m:\u001b[0m\u001b[1;33m\u001b[0m\u001b[1;33m\u001b[0m\u001b[0m\n\u001b[0;32m     12\u001b[0m             \u001b[0mleitor_csv\u001b[0m \u001b[1;33m=\u001b[0m \u001b[0mcsv\u001b[0m\u001b[1;33m.\u001b[0m\u001b[0mDictReader\u001b[0m\u001b[1;33m(\u001b[0m\u001b[0marquivo_csv\u001b[0m\u001b[1;33m)\u001b[0m\u001b[1;33m\u001b[0m\u001b[1;33m\u001b[0m\u001b[0m\n\u001b[1;32m---> 13\u001b[1;33m             \u001b[1;32mfor\u001b[0m \u001b[0mlinha\u001b[0m \u001b[1;32min\u001b[0m \u001b[0mleitor_csv\u001b[0m\u001b[1;33m:\u001b[0m\u001b[1;33m\u001b[0m\u001b[1;33m\u001b[0m\u001b[0m\n\u001b[0m\u001b[0;32m     14\u001b[0m                 \u001b[0mtitulo\u001b[0m \u001b[1;33m=\u001b[0m \u001b[0mlinha\u001b[0m\u001b[1;33m[\u001b[0m\u001b[1;34m'title'\u001b[0m\u001b[1;33m]\u001b[0m\u001b[1;33m\u001b[0m\u001b[1;33m\u001b[0m\u001b[0m\n\u001b[0;32m     15\u001b[0m                 \u001b[0mself\u001b[0m\u001b[1;33m.\u001b[0m\u001b[0mfilmes\u001b[0m\u001b[1;33m[\u001b[0m\u001b[0mtitulo\u001b[0m\u001b[1;33m]\u001b[0m \u001b[1;33m=\u001b[0m \u001b[0mlinha\u001b[0m\u001b[1;33m\u001b[0m\u001b[1;33m\u001b[0m\u001b[0m\n",
      "\u001b[1;32m~\\Anaconda3\\lib\\csv.py\u001b[0m in \u001b[0;36m__next__\u001b[1;34m(self)\u001b[0m\n\u001b[0;32m    110\u001b[0m             \u001b[1;31m# Used only for its side effect.\u001b[0m\u001b[1;33m\u001b[0m\u001b[1;33m\u001b[0m\u001b[1;33m\u001b[0m\u001b[0m\n\u001b[0;32m    111\u001b[0m             \u001b[0mself\u001b[0m\u001b[1;33m.\u001b[0m\u001b[0mfieldnames\u001b[0m\u001b[1;33m\u001b[0m\u001b[1;33m\u001b[0m\u001b[0m\n\u001b[1;32m--> 112\u001b[1;33m         \u001b[0mrow\u001b[0m \u001b[1;33m=\u001b[0m \u001b[0mnext\u001b[0m\u001b[1;33m(\u001b[0m\u001b[0mself\u001b[0m\u001b[1;33m.\u001b[0m\u001b[0mreader\u001b[0m\u001b[1;33m)\u001b[0m\u001b[1;33m\u001b[0m\u001b[1;33m\u001b[0m\u001b[0m\n\u001b[0m\u001b[0;32m    113\u001b[0m         \u001b[0mself\u001b[0m\u001b[1;33m.\u001b[0m\u001b[0mline_num\u001b[0m \u001b[1;33m=\u001b[0m \u001b[0mself\u001b[0m\u001b[1;33m.\u001b[0m\u001b[0mreader\u001b[0m\u001b[1;33m.\u001b[0m\u001b[0mline_num\u001b[0m\u001b[1;33m\u001b[0m\u001b[1;33m\u001b[0m\u001b[0m\n\u001b[0;32m    114\u001b[0m \u001b[1;33m\u001b[0m\u001b[0m\n",
      "\u001b[1;32m~\\Anaconda3\\lib\\encodings\\cp1252.py\u001b[0m in \u001b[0;36mdecode\u001b[1;34m(self, input, final)\u001b[0m\n\u001b[0;32m     21\u001b[0m \u001b[1;32mclass\u001b[0m \u001b[0mIncrementalDecoder\u001b[0m\u001b[1;33m(\u001b[0m\u001b[0mcodecs\u001b[0m\u001b[1;33m.\u001b[0m\u001b[0mIncrementalDecoder\u001b[0m\u001b[1;33m)\u001b[0m\u001b[1;33m:\u001b[0m\u001b[1;33m\u001b[0m\u001b[1;33m\u001b[0m\u001b[0m\n\u001b[0;32m     22\u001b[0m     \u001b[1;32mdef\u001b[0m \u001b[0mdecode\u001b[0m\u001b[1;33m(\u001b[0m\u001b[0mself\u001b[0m\u001b[1;33m,\u001b[0m \u001b[0minput\u001b[0m\u001b[1;33m,\u001b[0m \u001b[0mfinal\u001b[0m\u001b[1;33m=\u001b[0m\u001b[1;32mFalse\u001b[0m\u001b[1;33m)\u001b[0m\u001b[1;33m:\u001b[0m\u001b[1;33m\u001b[0m\u001b[1;33m\u001b[0m\u001b[0m\n\u001b[1;32m---> 23\u001b[1;33m         \u001b[1;32mreturn\u001b[0m \u001b[0mcodecs\u001b[0m\u001b[1;33m.\u001b[0m\u001b[0mcharmap_decode\u001b[0m\u001b[1;33m(\u001b[0m\u001b[0minput\u001b[0m\u001b[1;33m,\u001b[0m\u001b[0mself\u001b[0m\u001b[1;33m.\u001b[0m\u001b[0merrors\u001b[0m\u001b[1;33m,\u001b[0m\u001b[0mdecoding_table\u001b[0m\u001b[1;33m)\u001b[0m\u001b[1;33m[\u001b[0m\u001b[1;36m0\u001b[0m\u001b[1;33m]\u001b[0m\u001b[1;33m\u001b[0m\u001b[1;33m\u001b[0m\u001b[0m\n\u001b[0m\u001b[0;32m     24\u001b[0m \u001b[1;33m\u001b[0m\u001b[0m\n\u001b[0;32m     25\u001b[0m \u001b[1;32mclass\u001b[0m \u001b[0mStreamWriter\u001b[0m\u001b[1;33m(\u001b[0m\u001b[0mCodec\u001b[0m\u001b[1;33m,\u001b[0m\u001b[0mcodecs\u001b[0m\u001b[1;33m.\u001b[0m\u001b[0mStreamWriter\u001b[0m\u001b[1;33m)\u001b[0m\u001b[1;33m:\u001b[0m\u001b[1;33m\u001b[0m\u001b[1;33m\u001b[0m\u001b[0m\n",
      "\u001b[1;31mUnicodeDecodeError\u001b[0m: 'charmap' codec can't decode byte 0x81 in position 4015: character maps to <undefined>"
     ]
    }
   ],
   "source": [
    "from tkinter import *\n",
    "import csv\n",
    "\n",
    "class Gatoflix():\n",
    "    def __init__(self):\n",
    "        self.filmes = {}\n",
    "        self.popula_filmes()\n",
    "        self.cria_interface()\n",
    "\n",
    "    def popula_filmes(self):\n",
    "        with open('movies.csv') as arquivo_csv:\n",
    "            leitor_csv = csv.DictReader(arquivo_csv)\n",
    "            for linha in leitor_csv:\n",
    "                titulo = linha['title']\n",
    "                self.filmes[titulo] = linha\n",
    "\n",
    "    def start(self):\n",
    "        self.janela.mainloop()\n",
    "\n",
    "    # Evento de clique no \"Ver detalhes\"\n",
    "    # do programa\n",
    "    def movie_detail(self):\n",
    "        index = self.listFilmes.curselection()\n",
    "        movie_title = self.listFilmes.get(index)\n",
    "        details = self.filmes[movie_title]\n",
    "        self.lblName['text'] = movie_title\n",
    "        self.lblGenres['text'] = details['genres']\n",
    "\n",
    "    def cria_interface(self):\n",
    "        self.janela = Tk()\n",
    "        self.janela.title('Gatoflix')\n",
    "        self.janela.geometry('800x400')\n",
    "        self.janela.tk_setPalette(background= '#7e7d80', foreground = '#ffFF00', activeBackground = 'blue')\n",
    "\n",
    "        self.lblTitle = Label(self.janela, text='Gatoflix', font=('arial', 40, 'bold'))\n",
    "        self.lblTitle.pack()\n",
    "\n",
    "        self.container = Frame(self.janela)\n",
    "        self.container.pack()\n",
    "\n",
    "        self.listingFrame = Frame(self.container)\n",
    "        self.listingFrame.pack(side=LEFT)\n",
    "\n",
    "        self.listFilmes = Listbox(self.listingFrame, width=40)\n",
    "        self.listFilmes.pack()\n",
    "\n",
    "        for filme in self.filmes:\n",
    "            self.listFilmes.insert(END, filme)\n",
    "\n",
    "        self.btnDetalhe = Button(self.listingFrame, text='Ver detalhes', command=self.movie_detail)\n",
    "        self.btnDetalhe.pack()\n",
    "\n",
    "        self.detailFrame = Frame(self.container)\n",
    "        self.detailFrame.pack(side=LEFT)\n",
    "\n",
    "        self.lblName = Label(self.detailFrame, text=\"Toy Story\", font=('arial', 30, 'bold'))\n",
    "        self.lblName.grid(row = 0, column = 0)\n",
    "\n",
    "        #self.lblYear = Label(self.detailFrame, text=\"(1995)\", font=('arial', 20, ''))\n",
    "        #self.lblYear.grid(row = 0 , column=1)\n",
    "\n",
    "        self.lblGenres = Label(self.detailFrame, text=\"Animation, comedy\", font=('arial', 15, 'italic'))\n",
    "        self.lblGenres.grid(row=1, column=0)\n",
    "\n",
    "gato = Gatoflix()\n",
    "gato.start()"
   ]
  },
  {
   "cell_type": "code",
   "execution_count": null,
   "metadata": {},
   "outputs": [],
   "source": []
  }
 ],
 "metadata": {
  "kernelspec": {
   "display_name": "Python 3",
   "language": "python",
   "name": "python3"
  },
  "language_info": {
   "codemirror_mode": {
    "name": "ipython",
    "version": 3
   },
   "file_extension": ".py",
   "mimetype": "text/x-python",
   "name": "python",
   "nbconvert_exporter": "python",
   "pygments_lexer": "ipython3",
   "version": "3.7.3"
  }
 },
 "nbformat": 4,
 "nbformat_minor": 2
}
