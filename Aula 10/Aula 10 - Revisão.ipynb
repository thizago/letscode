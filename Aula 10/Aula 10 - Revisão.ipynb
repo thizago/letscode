{
 "cells": [
  {
   "cell_type": "markdown",
   "metadata": {},
   "source": [
    "## Lista de Tuplas e Dicionários\n",
    "\n",
    "6.\tJunto com a lista de exercícios você recebeu um arquivo .csv (PBR.csv) contendo, nesta ordem, o valor de abertura, o maior valor do dia, o menor valor do dia e o valor, o valor de fechamento e o valor ajustado de fechamento do ativo PBR4.SA, negociado pela bovespa desde 2000 (em reais). Antes de mais nada, abra o arquivo (pode ser aberto no sublime mesmo). **Faça uma função que recebe uma data e retorna, nessa ordem, os valores de abertura, alto, baixo, fechamento ou fechamento ajustado desse dia.** "
   ]
  },
  {
   "cell_type": "code",
   "execution_count": 3,
   "metadata": {},
   "outputs": [],
   "source": [
    "import csv"
   ]
  },
  {
   "cell_type": "code",
   "execution_count": 27,
   "metadata": {},
   "outputs": [],
   "source": [
    "def get_valores(data):\n",
    "    with open('PBR.csv') as file:\n",
    "        # abrindo o arquivo para cada linha ser um dicionário\n",
    "        leitor_csv = csv.DictReader(file)\n",
    "        for linha in leitor_csv: # linha é um dicionário\n",
    "            if linha['Date'] == data:\n",
    "                #High,Low,Open,Close,Volume,Adj Close\n",
    "                return (linha['High'], linha['Low'], linha['Open'], linha['Close'], linha['Volume'], linha['Adj Close'])\n",
    "\n",
    "def find_all_valores(data):\n",
    "    with open('PBR.csv') as file:\n",
    "        # abrindo o arquivo para cada linha ser um dicionário\n",
    "        leitor_csv = csv.DictReader(file)\n",
    "        for linha in leitor_csv: # linha é um dicionário\n",
    "            if linha['Date'] == data:\n",
    "                #High,Low,Open,Close,Volume,Adj Close\n",
    "                yield (linha['High'], linha['Low'], linha['Open'], linha['Close'], linha['Volume'], linha['Adj Close'])"
   ]
  },
  {
   "cell_type": "code",
   "execution_count": 29,
   "metadata": {},
   "outputs": [],
   "source": [
    "outubro = get_valores('2000-10-31')"
   ]
  },
  {
   "cell_type": "code",
   "execution_count": 30,
   "metadata": {},
   "outputs": [
    {
     "name": "stdout",
     "output_type": "stream",
     "text": [
      "('7.375', '7.21875', '7.359379768371582', '7.265620231628418', '2072400.0', '0.02286025881767273')\n"
     ]
    }
   ],
   "source": [
    "print(outubro)"
   ]
  },
  {
   "cell_type": "code",
   "execution_count": 28,
   "metadata": {},
   "outputs": [
    {
     "name": "stdout",
     "output_type": "stream",
     "text": [
      "('9.770000457763672', '9.4399995803833', '9.5', '9.6899995803833', '22064700.0', '9.615521430969238')\n",
      "('9.770000457763672', '9.4399995803833', '9.5', '9.6899995803833', '22064700.0', '9.615521430969238')\n"
     ]
    }
   ],
   "source": [
    "for achado in find_all_valores('2017-03-31'):\n",
    "    print(achado)"
   ]
  },
  {
   "cell_type": "code",
   "execution_count": 47,
   "metadata": {},
   "outputs": [
    {
     "name": "stdout",
     "output_type": "stream",
     "text": [
      "\t primeiro_nome Guilherme\n",
      "\t sobrenome Rey\n",
      "chave: idade, \tvalor: 31\n"
     ]
    }
   ],
   "source": [
    "'''\n",
    "    Um dicionário é sempre um conjunto de itens, onde cada\n",
    "    item é um par/tupla (chave, valor).\n",
    "'''\n",
    "cadastro = {\n",
    "    'nome': {\n",
    "        'primeiro_nome': 'Guilherme',\n",
    "        'sobrenome': 'Rey'\n",
    "    },\n",
    "    'idade': 31\n",
    "}\n",
    "for (chave, valor) in cadastro.items():\n",
    "    if isinstance(valor, dict):\n",
    "        for c, v in valor.items():\n",
    "            print('\\t', c, v)\n",
    "    else:\n",
    "        print('chave: {}, \\tvalor: {}'.format(chave, valor))"
   ]
  },
  {
   "cell_type": "code",
   "execution_count": null,
   "metadata": {},
   "outputs": [],
   "source": []
  }
 ],
 "metadata": {
  "kernelspec": {
   "display_name": "Python 3",
   "language": "python",
   "name": "python3"
  },
  "language_info": {
   "codemirror_mode": {
    "name": "ipython",
    "version": 3
   },
   "file_extension": ".py",
   "mimetype": "text/x-python",
   "name": "python",
   "nbconvert_exporter": "python",
   "pygments_lexer": "ipython3",
   "version": "3.7.2"
  }
 },
 "nbformat": 4,
 "nbformat_minor": 2
}
