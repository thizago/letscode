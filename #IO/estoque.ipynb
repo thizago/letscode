{
 "cells": [
  {
   "cell_type": "markdown",
   "metadata": {},
   "source": [
    "# Projeto Python\n",
    "## Controle de Estoque\n",
    "---\n",
    "Vamos implementar um sistema de estoque, que funcione com uma interface pelo terminal.\n",
    "No sistema, cada item possui um nome e seu estoque. \n",
    "O usuário deverá ser capaz de:\n",
    "- Inserir um novo item\n",
    "    - Se o item já estiver no banco de dados, somar o valor de estoque ao anterior\n",
    "- Remover um item pelo seu nome\n",
    "- Filtrar os itens por *Nome*\n",
    "- Salvar o estoque atual em arquivo, com nome definido pelo mesmo\n",
    "- Carregar o sistema com um arquivo específico (*opcional*)"
   ]
  },
  {
   "cell_type": "code",
   "execution_count": 24,
   "metadata": {},
   "outputs": [
    {
     "ename": "IndentationError",
     "evalue": "expected an indented block (<ipython-input-24-f57c807013ed>, line 42)",
     "output_type": "error",
     "traceback": [
      "\u001b[1;36m  File \u001b[1;32m\"<ipython-input-24-f57c807013ed>\"\u001b[1;36m, line \u001b[1;32m42\u001b[0m\n\u001b[1;33m    def opcoes(nome_arquivo):\u001b[0m\n\u001b[1;37m                             ^\u001b[0m\n\u001b[1;31mIndentationError\u001b[0m\u001b[1;31m:\u001b[0m expected an indented block\n"
     ]
    }
   ],
   "source": [
    "import csv\n",
    "import os.path \n",
    "\n",
    "\n",
    "\n",
    "# função da mensagem de abertura e cria ou acessa csv do estoque\n",
    "def boas_vindas():\n",
    "    print ('Bem vindo ao sistema de Estoque.')\n",
    "    print ('################################\\n')\n",
    "    print ('1 - Novo estoque.')\n",
    "    print ('2 - Abrir estoque')\n",
    "    inicio = input()\n",
    "    if inicio == '1':\n",
    "        print ('Novo estoque')\n",
    "        nome_arquivo = input('Digite o nome do estoque:')\n",
    "        if os.path.exists(nome_arquivo + '.csv'):\n",
    "            print ('Estoque já existe.')\n",
    "            boas_vindas()\n",
    "        else:\n",
    "            with open('estoques.txt') as estoques:\n",
    "                print (('Estoques existentes :\\n{}').format(estoques))\n",
    "            with open(nome_arquivo +'.csv', mode='w'):\n",
    "                opcoes(nome_arquivo)\n",
    "    elif inicio == '2':\n",
    "        #incluir lista de estoques existentes\n",
    "        nome_arquivo = input('Digite o nome do estoque:')\n",
    "        # incluir teste de previa existencia\n",
    "        with open(arquivo +'.csv', mode='r') as listagem:\n",
    "            arquivo_reader = csv.reader(listagem)\n",
    "            for linha in arquivo_reader:\n",
    "                #carregar cada item da linha em uma lista dentro da lista\n",
    "                \n",
    "                \n",
    "                \n",
    "                \n",
    "                \n",
    "                \n",
    "                \n",
    "          \n",
    "    \n",
    "    \n",
    "def opcoes(nome_arquivo):\n",
    "    print (('\\n###################\\n\\n# Estoque {} #\\n').format(nome_arquivo))\n",
    "    print ('1 - Inserir Produto')\n",
    "    print ('2 - Remover Produto')\n",
    "    print ('3 - Remover Produto')\n",
    "    print ('4 - Salvar')\n",
    "    print ('5 - Sair')\n",
    "    opcao = input('')\n",
    "    \n",
    "    if opcao == '1':\n",
    "        inserir()\n",
    "    elif opcao == '2':\n",
    "        remover()\n",
    "    elif opcao == '3':\n",
    "        remover()\n",
    "    elif opcao == '4':\n",
    "        salvar()\n",
    "    else:\n",
    "        sair()\n",
    "        \n",
    "        \n",
    "def inserir():\n",
    "    produto = input('Digite o produto que deseja inserir ao estoque:')\n",
    "    #for item in estoque\n",
    "        \n",
    "\n",
    "boas_vindas()\n",
    "\n",
    "\n"
   ]
  },
  {
   "cell_type": "code",
   "execution_count": null,
   "metadata": {},
   "outputs": [],
   "source": []
  },
  {
   "cell_type": "code",
   "execution_count": null,
   "metadata": {},
   "outputs": [],
   "source": []
  },
  {
   "cell_type": "code",
   "execution_count": null,
   "metadata": {},
   "outputs": [],
   "source": []
  }
 ],
 "metadata": {
  "kernelspec": {
   "display_name": "Python 3",
   "language": "python",
   "name": "python3"
  },
  "language_info": {
   "codemirror_mode": {
    "name": "ipython",
    "version": 3
   },
   "file_extension": ".py",
   "mimetype": "text/x-python",
   "name": "python",
   "nbconvert_exporter": "python",
   "pygments_lexer": "ipython3",
   "version": "3.7.3"
  }
 },
 "nbformat": 4,
 "nbformat_minor": 2
}
