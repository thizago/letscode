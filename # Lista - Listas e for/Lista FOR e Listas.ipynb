{
 "cells": [
  {
   "cell_type": "markdown",
   "metadata": {},
   "source": [
    "# Lista 4 - FOR e Listas #\n",
    "## Testando uso do _markdown_\n"
   ]
  },
  {
   "cell_type": "markdown",
   "metadata": {},
   "source": [
    "### 1.Crie uma lista qualquer e faça um programa que imprima cada elemento da lista usando o ​for​"
   ]
  },
  {
   "cell_type": "code",
   "execution_count": 5,
   "metadata": {},
   "outputs": [
    {
     "name": "stdout",
     "output_type": "stream",
     "text": [
      "234\n",
      "234\n",
      "34\n",
      "34\n",
      "345\n",
      "2341\n",
      "213\n",
      "234\n",
      "1234\n",
      "3241\n",
      "54\n",
      "234\n",
      "1234\n",
      "124\n"
     ]
    }
   ],
   "source": [
    "lista = [234,234,34,34,345,2341,213,234,1234,3241,54,234,1234,124]\n",
    "for i in lista:\n",
    "    print (i)"
   ]
  },
  {
   "cell_type": "markdown",
   "metadata": {},
   "source": [
    "### 2.Faça um programa que peça para o usuário digitar um número n e imprima uma lista com todos os números de 0 a n-1.\n",
    ">Exemplo: se o usuário digitar 5, o programa deve imprimir [0, 1, 2, 3, 4"
   ]
  },
  {
   "cell_type": "code",
   "execution_count": 11,
   "metadata": {},
   "outputs": [
    {
     "name": "stdout",
     "output_type": "stream",
     "text": [
      "Entre com um número: 8\n",
      "0\n",
      "1\n",
      "2\n",
      "3\n",
      "4\n",
      "5\n",
      "6\n",
      "7\n"
     ]
    }
   ],
   "source": [
    "numero = int(input('Entre com um número: '))\n",
    "for i in range(numero):\n",
    "    print(i)"
   ]
  },
  {
   "cell_type": "markdown",
   "metadata": {},
   "source": [
    "### 3.Faça um programa que imprima todos os itens de uma lista, usando ​whilee compare com o exercício 1."
   ]
  },
  {
   "cell_type": "code",
   "execution_count": 12,
   "metadata": {},
   "outputs": [
    {
     "name": "stdout",
     "output_type": "stream",
     "text": [
      "entre numero: 5\n",
      "0\n",
      "1\n",
      "2\n",
      "3\n",
      "4\n"
     ]
    }
   ],
   "source": [
    "numero_dado = int(input('entre numero: '))\n",
    "i = 0\n",
    "while i < numero_dado:\n",
    "    print (i)\n",
    "    i += 1"
   ]
  },
  {
   "cell_type": "markdown",
   "metadata": {},
   "source": [
    "### 4.Faça um programa que olhe todos os itens de uma lista e diga quantos deles são pares."
   ]
  },
  {
   "cell_type": "code",
   "execution_count": 14,
   "metadata": {},
   "outputs": [
    {
     "name": "stdout",
     "output_type": "stream",
     "text": [
      "6 numeros da lista sao pares: [4, 8, 46, 34, 54, 76]\n"
     ]
    }
   ],
   "source": [
    "lista = [5,7,3,5,65,4,65,8,57,45,5,7,75,5,46,34,43,23,23,54,65,76]\n",
    "\n",
    "quantos_pares = 0\n",
    "pares = []\n",
    "\n",
    "for i in lista:\n",
    "    if (i % 2) == 0:\n",
    "        quantos_pares += 1\n",
    "        pares.append(i)\n",
    "        \n",
    "print (quantos_pares , 'numeros da lista sao pares:',pares)"
   ]
  },
  {
   "cell_type": "markdown",
   "metadata": {},
   "source": [
    "### 5.Faça um programa que imprima o maior número de uma lista, sem usar *max()​*."
   ]
  },
  {
   "cell_type": "code",
   "execution_count": 19,
   "metadata": {},
   "outputs": [
    {
     "name": "stdout",
     "output_type": "stream",
     "text": [
      "98\n"
     ]
    }
   ],
   "source": [
    "lista = [5,7,3,5,65,4,65,8,57,45,98,7,75,5,46,34,43,23,23,54,65,76]\n",
    "\n",
    "maior = lista[0]\n",
    "\n",
    "for i in lista:\n",
    "    if i > maior:\n",
    "        maior = i\n",
    "print (maior)"
   ]
  },
  {
   "cell_type": "markdown",
   "metadata": {},
   "source": [
    "### 6.Agora usando *max()* faça um programa que imprima os três maiores números de uma lista.\n",
    "> Dica: use a função própria de listas *.remove*"
   ]
  },
  {
   "cell_type": "code",
   "execution_count": 22,
   "metadata": {},
   "outputs": [
    {
     "name": "stdout",
     "output_type": "stream",
     "text": [
      "[98, 76, 75]\n"
     ]
    }
   ],
   "source": [
    "lista = [5,7,3,5,65,4,65,8,57,45,98,7,75,5,46,34,43,23,23,54,65,76]\n",
    "\n",
    "tres_max = []\n",
    "\n",
    "while len(tres_max) < 3:\n",
    "    maximo = max(lista)\n",
    "    tres_max.append(maximo)\n",
    "    lista.remove(maximo)\n",
    "\n",
    "print (tres_max)\n",
    "\n",
    "    \n",
    "    "
   ]
  },
  {
   "cell_type": "markdown",
   "metadata": {},
   "source": [
    "### 7.Faça um programa que, dadas duas listas de mesmo tamanho, crie uma nova lista com cada elemento igual a soma dos elementos da lista 1 com a lista 2, na mesma posição.\n",
    "> Exemplo: dadas lista1 = [1, 4, 5] e lista2 = [2, 2, 3], então lista3 = [1+2, 4+2, 5+3]= [3, 6, 8]"
   ]
  },
  {
   "cell_type": "code",
   "execution_count": 34,
   "metadata": {},
   "outputs": [
    {
     "name": "stdout",
     "output_type": "stream",
     "text": [
      "[3, 6, 8, 13, 9, 14]\n"
     ]
    }
   ],
   "source": [
    "lista_1 = [1, 4, 5, 6, 4, 5]\n",
    "lista_2 = [2, 2, 3, 7, 5, 9]\n",
    "lista_3 = []\n",
    "i = 0\n",
    "while i < len(lista_1):\n",
    "    x = (lista_1[i] + lista_2[i])\n",
    "    lista_3.insert(i,x)\n",
    "    i +=1\n",
    "print (lista_3)\n"
   ]
  },
  {
   "cell_type": "markdown",
   "metadata": {},
   "source": [
    "### 8. Faça um programa que dadas duas listas de mesmo tamanho, imprima o produto escalar entre elas. \n",
    "OBS: produto escalar é a soma do resultado da multiplicação entre o número na posição i da lista1 pelo número na posição i da lista2, com i variando de 0 ao tamanho da lista.\n",
    "> Exemplo: dadas lista1 = [1, 4, 5] e lista2 = [2, 2, 3], então prod = 1*2 + 4*2 + 5*3"
   ]
  },
  {
   "cell_type": "code",
   "execution_count": 10,
   "metadata": {},
   "outputs": [
    {
     "name": "stdout",
     "output_type": "stream",
     "text": [
      "2\n",
      "8\n",
      "15\n",
      "42\n",
      "20\n",
      "45\n",
      "132 <-----  Total\n"
     ]
    }
   ],
   "source": [
    "lista_1 = [1, 4, 5, 6, 4, 5]\n",
    "lista_2 = [2, 2, 3, 7, 5, 9]\n",
    "lista_3 = []\n",
    "i = 0\n",
    "while i < len(lista_1):\n",
    "    x = lista_1[i] * lista_2[i]\n",
    "    lista_3.insert(i,x)\n",
    "    print (lista_3[i])\n",
    "    i += 1\n",
    "print (sum(lista_3), '<-----  Total')"
   ]
  },
  {
   "cell_type": "markdown",
   "metadata": {},
   "source": [
    "### 9. Faça um programa que pede para o usuário digitar 5 números e, ao final, imprime uma lista com os 5 números digitados pelo usuário (sem converter os número para *int* ou *float*).\n",
    "> Exemplo: Se o usuário digitar 1, 5, 2, 3, 6 o programa deve imprimir a lista ['1','5','2','3','6']"
   ]
  },
  {
   "cell_type": "code",
   "execution_count": 10,
   "metadata": {},
   "outputs": [
    {
     "name": "stdout",
     "output_type": "stream",
     "text": [
      "Entre um número: 1\n",
      "Entre um número: 2\n",
      "Entre um número: 3\n",
      "Entre um número: 4\n",
      "Entre um número: 5\n",
      "['1', '2', '3', '4', '5']\n"
     ]
    }
   ],
   "source": [
    "numero = []\n",
    "i = 0\n",
    "while i <5:\n",
    "    x = input('Entre um número: ')\n",
    "    numero.append(x)\n",
    "    i += 1\n",
    "print (numero)"
   ]
  },
  {
   "cell_type": "markdown",
   "metadata": {},
   "source": [
    "### 10. Pegue a lista gerada no exercício anterior e transforme cada um dos itens dessa lista em um float .\n",
    "OBS: Não é para alterar o programa anterior, mas a lista gerada por ele."
   ]
  },
  {
   "cell_type": "code",
   "execution_count": 1,
   "metadata": {},
   "outputs": [
    {
     "name": "stdout",
     "output_type": "stream",
     "text": [
      "Entre um número: 8.8\n",
      "Entre um número: 9.7\n",
      "Entre um número: 9.6\n",
      "Entre um número: 9.4\n",
      "Entre um número: 7\n",
      "['8.8', '9.7', '9.6', '9.4', '7']\n",
      "[8.8, 9.7, 9.6, 9.4, 7.0]\n"
     ]
    }
   ],
   "source": [
    "numero = []\n",
    "i = 0\n",
    "while i <5:\n",
    "    x = input('Entre um número: ')\n",
    "    numero.append(x)\n",
    "    i += 1\n",
    "print (numero)\n",
    "i = 0\n",
    "while i < 5:\n",
    "    numero [i] = float(numero[i])\n",
    "    i += 1\n",
    "print (numero)"
   ]
  },
  {
   "cell_type": "markdown",
   "metadata": {},
   "source": [
    "### 11. Faça um Programa que peça as 4 notas bimestrais e mostre a média, usando listas."
   ]
  },
  {
   "cell_type": "code",
   "execution_count": 4,
   "metadata": {},
   "outputs": [
    {
     "name": "stdout",
     "output_type": "stream",
     "text": [
      "Entre com a nota bimestral: 4.4\n",
      "Entre com a nota bimestral: 5.3\n",
      "Entre com a nota bimestral: 8.9\n",
      "Entre com a nota bimestral: 10\n",
      "7.15 <-------------- média\n"
     ]
    }
   ],
   "source": [
    "bimestrais = []\n",
    "i = 0\n",
    "while i < 4:\n",
    "    x = float(input('Entre com a nota bimestral: '))\n",
    "    bimestrais.append(x)\n",
    "    i += 1\n",
    "print ((sum(bimestrais))/4 , '<-------------- média')\n",
    "    "
   ]
  },
  {
   "cell_type": "markdown",
   "metadata": {},
   "source": [
    "## Desafio"
   ]
  },
  {
   "cell_type": "markdown",
   "metadata": {},
   "source": [
    "### 1. Faça um programa que peça para o usuário digitar o nome de um aluno, a idade dele e o número de provas que esse aluno fez. Depois disso o programa deve pedir para o usuário digitar as notas de cada prova do aluno. Ao final o programa deve imprimir uma lista contendo:\n",
    "**a. Nome do aluno na posição 0**\n",
    "\n",
    "**b. Idade do aluno na posição 1**\n",
    "\n",
    "**c. Uma lista com todas as notas na posição 2**\n",
    "\n",
    "**d. A média do aluno na posição 3**\n",
    "\n",
    "**e. True ou False, caso a média seja maior que 5 ou não, na posição 4**\n",
    "\n",
    "> Dica: use o que você fez nos exercícios anteriores para criar esse programa"
   ]
  },
  {
   "cell_type": "code",
   "execution_count": 3,
   "metadata": {},
   "outputs": [
    {
     "name": "stdout",
     "output_type": "stream",
     "text": [
      "Nome: Thiago\n",
      "Idade: 41\n",
      "Quantas provas fez: 6\n",
      "Nota da prova5\n",
      "Nota da prova7\n",
      "Nota da prova6\n",
      "Nota da prova8\n",
      "Nota da prova6\n",
      "Nota da prova7\n",
      "['Thiago', '41', [5.0, 7.0, 6.0, 8.0, 6.0, 7.0], 6.5, True]\n"
     ]
    }
   ],
   "source": [
    "aluno = []\n",
    "notas = []\n",
    "#nome = input('Nome: ')\n",
    "aluno.append(input('Nome: '))\n",
    "aluno.append(input('Idade: '))\n",
    "provas = int(input('Quantas provas fez: '))\n",
    "i = 0\n",
    "while i < provas:\n",
    "    notas.append(float(input('Nota da prova: ')))\n",
    "    i += 1\n",
    "aluno.append(notas)\n",
    "aluno.append(sum(notas) / provas)\n",
    "aluno.append(aluno[3] >5)\n",
    "print (aluno)\n",
    "\n"
   ]
  },
  {
   "cell_type": "markdown",
   "metadata": {},
   "source": [
    "### 2. Faça um programa como o do item anterior, porém que imprima a média sem considerar a maior e menor nota do aluno (nesse caso o número de provas precisa ser obrigatoriamente maior que dois)\n",
    "> Dica: crie uma cópia com a lista de todas as notas antes de fazer a média"
   ]
  },
  {
   "cell_type": "code",
   "execution_count": 11,
   "metadata": {},
   "outputs": [
    {
     "name": "stdout",
     "output_type": "stream",
     "text": [
      "Nome: Thiago\n",
      "Idade: 41\n",
      "Quantas provas fez: 4\n",
      "Nota da prova: 6\n",
      "Nota da prova: 4\n",
      "Nota da prova: 5\n",
      "Nota da prova: 7\n",
      "[6.0, 4.0, 5.0, 7.0]\n",
      "[6.0, 4.0, 5.0, 7.0]\n",
      "['Thiago', '41', [6.0, 4.0, 5.0, 7.0], 5.5, True]\n"
     ]
    }
   ],
   "source": [
    "aluno = [] \n",
    "notas = []\n",
    "\n",
    "aluno.append(input('Nome: '))\n",
    "aluno.append(input('Idade: '))\n",
    "provas = int(input('Quantas provas fez: '))\n",
    "\n",
    "i = 0\n",
    "while i < provas:\n",
    "    notas.append(float(input('Nota da prova: ')))\n",
    "    i += 1\n",
    "aluno.append(notas)  \n",
    "\n",
    "# 'lista1 = lista2 ' faz com q as duas listas sejam sempre iguais.? muda uma e a outra tb muda. usar lista.copy()\n",
    "copia_notas = notas.copy()\n",
    "copia_notas.sort()\n",
    "\n",
    "if provas > 2:\n",
    "    copia_notas.pop(0)\n",
    "    copia_notas.pop(-1)\n",
    "    aluno.append(sum(copia_notas)/(provas - 2))\n",
    "else:\n",
    "    aluno.append(sum(notas) / provas)\n",
    "    \n",
    "aluno.append(aluno[3] >5)\n",
    "    \n",
    "    \n",
    "print (aluno)\n",
    "    "
   ]
  },
  {
   "cell_type": "markdown",
   "metadata": {},
   "source": [
    "### 3.Faça um programa que pede para o usuário digitar o cpf e verifica se ele é válido. Primeiramente o programa deve multiplicar cada um dos 9 primeiros dígitos do CPF pelos números de 10 a 2 e somar todas as respostas. O resultado deve ser multiplicado por 10 e dividido por 11. O resto da divisão deve ser igual ao primeiro dígito verificador (10º dígito). Em seguida, o programa deve multiplicar cada um dos 10 primeiros dígitos do CPF pelos números de 11 a 2 e repetir o procedimento anterior para verificar o segundo dígito verificador.\n",
    "> Exemplo: se o CPF for 286.255.878-87 o programa deve fazer primeiro:x = (2x10 + 8x9 + 6x8 + 2x7 + 5x6 + 5x5 + 8x4 + 7x3 + 8x2).Em seguida o programa deve testar se x x 10%11 == 8 (o décimo número doC PF).Se for, o programa deve calcular x = (2x11 + 8x10 + 6x9 + 2x8 + 5x7 + 5x6 + 8x5 + 7x4 + 8x3 + 8x2)e verificar se x x 10%11 == 7 (o décimo primeiro número do CPF)"
   ]
  },
  {
   "cell_type": "code",
   "execution_count": null,
   "metadata": {},
   "outputs": [
    {
     "name": "stdout",
     "output_type": "stream",
     "text": [
      "Digite o CPF: df\n",
      "Digite apenas os 11 números do CPF\n",
      "Digite o CPF: erfrve\n",
      "Digite apenas os 11 números do CPF\n"
     ]
    }
   ],
   "source": [
    "while True:\n",
    "    cpf_str = (input('Digite o CPF: '))\n",
    "    cpf = list(cpf_str)\n",
    "    numeros = cpf[:-2]\n",
    "    verificadores = cpf[-2:]\n",
    "    \n",
    "    if not cpf_str.isnumeric() or len(cpf) != 11:\n",
    "        print('Digite apenas os 11 números do CPF')\n",
    "        \n",
    "    else:\n",
    "        multiplicador = 10\n",
    "        x = 0\n",
    "        for i in numeros:\n",
    "            x += (int(i) * multiplicador)\n",
    "            multiplicador -= 1\n",
    "        y = 0\n",
    "        multiplicador = 11\n",
    "        numeros.append(verificadores[-2])\n",
    "        for i in numeros:\n",
    "            y += (int(i) * multiplicador)\n",
    "            multiplicador -= 1\n",
    "                   \n",
    "        verificador_1 = (x * 10 % 11)\n",
    "        if verificador_1 == 10:\n",
    "            verificador_1 = 0\n",
    "        verificador_2 = (y * 10 % 11)\n",
    "        if verificador_1 == 10:\n",
    "            verificador_1 = 0\n",
    "\n",
    "        \n",
    "        if verificador_1 == int(verificadores[0]) and verificador_2 == int(verificadores[1]):\n",
    "            print('O CPF', cpf_str , 'é válido.') \n",
    "            break\n",
    "        else:\n",
    "            print('CPF Inválido')\n",
    "            \n"
   ]
  },
  {
   "cell_type": "code",
   "execution_count": 1,
   "metadata": {},
   "outputs": [
    {
     "name": "stdout",
     "output_type": "stream",
     "text": [
      "7\n"
     ]
    }
   ],
   "source": []
  },
  {
   "cell_type": "code",
   "execution_count": null,
   "metadata": {},
   "outputs": [],
   "source": []
  }
 ],
 "metadata": {
  "kernelspec": {
   "display_name": "Python 3",
   "language": "python",
   "name": "python3"
  },
  "language_info": {
   "codemirror_mode": {
    "name": "ipython",
    "version": 3
   },
   "file_extension": ".py",
   "mimetype": "text/x-python",
   "name": "python",
   "nbconvert_exporter": "python",
   "pygments_lexer": "ipython3",
   "version": "3.7.3"
  }
 },
 "nbformat": 4,
 "nbformat_minor": 4
}
