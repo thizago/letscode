{
 "cells": [
  {
   "cell_type": "markdown",
   "metadata": {},
   "source": [
    "# Lista - Funções"
   ]
  },
  {
   "cell_type": "markdown",
   "metadata": {},
   "source": [
    "### 1. Faça uma função que recebe um número e imprime seu dobro."
   ]
  },
  {
   "cell_type": "code",
   "execution_count": 3,
   "metadata": {},
   "outputs": [
    {
     "name": "stdout",
     "output_type": "stream",
     "text": [
      "68\n"
     ]
    }
   ],
   "source": [
    "def dobro(numero):\n",
    "    return numero * 2\n",
    "\n",
    "print (dobro(34))"
   ]
  },
  {
   "cell_type": "markdown",
   "metadata": {},
   "source": [
    "### 2. Faça uma função que receba um valor do raio de um círculo e retorne o valor do comprimento de sua circunferência: C = 2*pi*r."
   ]
  },
  {
   "cell_type": "code",
   "execution_count": 4,
   "metadata": {},
   "outputs": [
    {
     "name": "stdout",
     "output_type": "stream",
     "text": [
      "213.52\n"
     ]
    }
   ],
   "source": [
    "def circunferencia(raio):\n",
    "    return 2 * 3.14 * raio\n",
    "\n",
    "print (circunferencia(34))"
   ]
  },
  {
   "cell_type": "markdown",
   "metadata": {},
   "source": [
    "### 3. Faça uma função para cada operação matemática básica (soma, subtração, multiplicação e divisão). As funções devem receber dois números e retornar o resultado da operação."
   ]
  },
  {
   "cell_type": "code",
   "execution_count": 14,
   "metadata": {},
   "outputs": [
    {
     "name": "stdout",
     "output_type": "stream",
     "text": [
      "6.984615384615385\n"
     ]
    }
   ],
   "source": [
    "def soma(a,b):\n",
    "    return a + b\n",
    "\n",
    "def subtracao(a,b):\n",
    "    return a - b\n",
    "\n",
    "def multi(a,b):\n",
    "    return a * b\n",
    "\n",
    "def divisao(a,b):\n",
    "    return a / b\n",
    "\n",
    "print (divisao( 454,65))"
   ]
  },
  {
   "cell_type": "markdown",
   "metadata": {},
   "source": [
    "### 4. Faça uma função que recebe um nome e imprima “ola [nome]”."
   ]
  },
  {
   "cell_type": "code",
   "execution_count": 16,
   "metadata": {},
   "outputs": [
    {
     "name": "stdout",
     "output_type": "stream",
     "text": [
      "Olá,zé\n"
     ]
    }
   ],
   "source": [
    "def saudacao(nome):\n",
    "    print('Olá,{}' .format(nome))\n",
    "    \n",
    "saudacao('zé')"
   ]
  },
  {
   "cell_type": "markdown",
   "metadata": {},
   "source": [
    "### 5. Faça uma função que recebe um nome e um horário e imprime “Bom dia [nome]”, caso seja antes de 12h, “Boa Tarde [nome]”, caso seja entre 12h e 18h e “boa noite [nome]” se for após às 18h."
   ]
  },
  {
   "cell_type": "code",
   "execution_count": 28,
   "metadata": {},
   "outputs": [
    {
     "name": "stdout",
     "output_type": "stream",
     "text": [
      "Boa noite, ze.\n"
     ]
    }
   ],
   "source": [
    "def saudacao_2(nome, hora):\n",
    "    if hora < 12:\n",
    "        x = 'Bom dia'\n",
    "    elif hora < 18:\n",
    "        x = 'Boa tarde'\n",
    "    else:\n",
    "        x = 'Boa noite'\n",
    "    print ('{}, {}.'.format(x,nome))\n",
    "\n",
    "saudacao_2('ze',23)    "
   ]
  },
  {
   "cell_type": "markdown",
   "metadata": {},
   "source": [
    "### 6. Faça uma função que recebe um número e retorne True se ele é par ou False , se não."
   ]
  },
  {
   "cell_type": "code",
   "execution_count": 36,
   "metadata": {},
   "outputs": [
    {
     "name": "stdout",
     "output_type": "stream",
     "text": [
      "False\n"
     ]
    }
   ],
   "source": [
    "def eh_par(numero):\n",
    "    return numero % 2 == 0\n",
    "print (eh_par(4532345))"
   ]
  },
  {
   "cell_type": "markdown",
   "metadata": {},
   "source": [
    "### 7. Faça uma função que sorteie 10 números aleatórios entre 0 e 100 e retorne o maior entre eles."
   ]
  },
  {
   "cell_type": "code",
   "execution_count": 55,
   "metadata": {},
   "outputs": [
    {
     "name": "stdout",
     "output_type": "stream",
     "text": [
      "96\n"
     ]
    }
   ],
   "source": [
    "def maior_sorteio():\n",
    "    import random\n",
    "    dez_numeros = []\n",
    "    i = 0\n",
    "    while i < 10:\n",
    "        dez_numeros.append(random.randrange(0,101))\n",
    "        i += 1\n",
    "    return max(dez_numeros)\n",
    "    \n",
    "print (maior_sorteio())"
   ]
  },
  {
   "cell_type": "markdown",
   "metadata": {},
   "source": [
    "### 8. Faça uma função que receba um número n de entrada, sorteie n números aleatórios entre 0 e 100 e retorne a média deles."
   ]
  },
  {
   "cell_type": "code",
   "execution_count": 56,
   "metadata": {},
   "outputs": [
    {
     "name": "stdout",
     "output_type": "stream",
     "text": [
      "[60, 56, 33, 31]\n",
      "45.0\n"
     ]
    }
   ],
   "source": [
    "def media_aleatoria(n):\n",
    "    \n",
    "    def media(lista):\n",
    "        return sum(lista) / len(lista)\n",
    "    \n",
    "    import random\n",
    "    numeros = []\n",
    "    i = 0\n",
    "    while i < n:\n",
    "        numeros.append(random.randrange(0,101))\n",
    "        i += 1\n",
    "    return media(numeros)\n",
    "\n",
    "print (media_aleatoria(4))"
   ]
  }
 ],
 "metadata": {
  "kernelspec": {
   "display_name": "Python 3",
   "language": "python",
   "name": "python3"
  },
  "language_info": {
   "codemirror_mode": {
    "name": "ipython",
    "version": 3
   },
   "file_extension": ".py",
   "mimetype": "text/x-python",
   "name": "python",
   "nbconvert_exporter": "python",
   "pygments_lexer": "ipython3",
   "version": "3.7.3"
  }
 },
 "nbformat": 4,
 "nbformat_minor": 2
}
