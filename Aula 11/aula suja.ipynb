{
 "cells": [
  {
   "cell_type": "markdown",
   "metadata": {},
   "source": [
    "## Aula 11 - Praticando Orientação a Objetos"
   ]
  },
  {
   "cell_type": "code",
   "execution_count": 39,
   "metadata": {},
   "outputs": [],
   "source": [
    "'''\n",
    " __\n",
    "| PC | -> 1\n",
    "| SC | -> 2\n",
    "| PC | -> 3\n",
    "|  |\n",
    "|  |\n",
    " --\n",
    "'''\n",
    "class Cadeira():\n",
    "    def __init__(self, altura = 0, tecido = 'suede', movel = True):\n",
    "        self.altura = altura\n",
    "        self.tecido = tecido\n",
    "        self.movel = movel\n",
    "        self.por_cima = None\n",
    "    \n",
    "    def sobe(self, para_subir):\n",
    "        self.altura += para_subir\n",
    "    \n",
    "    def empilhar(self, cadeira_por_cima):\n",
    "        self.por_cima = cadeira_por_cima\n",
    "        \n",
    "class Sala():\n",
    "    def __init__(self, numero):\n",
    "        self.numero = numero\n",
    "        self.cadeiras = []\n",
    "        \n",
    "    def __repr__(self):\n",
    "        return '<Sala {}, com {} cadeiras>'.format(self.numero, len(self.cadeiras))\n",
    "    \n",
    "class LetsCodeFL():\n",
    "    def __init__(self):\n",
    "        self.salas = {}\n",
    "    \n",
    "    def criar_sala(self, numero_sala):\n",
    "        if numero_sala not in self.salas:\n",
    "            self.salas[numero_sala] = Sala(numero_sala)\n",
    "        else:\n",
    "            return 'Já existe a sala {}'.format(numero_sala)\n",
    "        "
   ]
  },
  {
   "cell_type": "code",
   "execution_count": 48,
   "metadata": {},
   "outputs": [],
   "source": [
    "lc.salas[4].cadeiras[0].sobe(10)"
   ]
  },
  {
   "cell_type": "code",
   "execution_count": 40,
   "metadata": {},
   "outputs": [],
   "source": [
    "lc = LetsCodeFL()"
   ]
  },
  {
   "cell_type": "code",
   "execution_count": 44,
   "metadata": {},
   "outputs": [
    {
     "data": {
      "text/plain": [
       "'Já existe a sala 4'"
      ]
     },
     "execution_count": 44,
     "metadata": {},
     "output_type": "execute_result"
    }
   ],
   "source": [
    "lc.criar_sala(4)"
   ]
  },
  {
   "cell_type": "code",
   "execution_count": 46,
   "metadata": {},
   "outputs": [
    {
     "data": {
      "text/plain": [
       "[<__main__.Cadeira at 0x10992cf98>]"
      ]
     },
     "execution_count": 46,
     "metadata": {},
     "output_type": "execute_result"
    }
   ],
   "source": [
    "lc.salas[4].cadeiras.append(primeira_cadeira)\n",
    "lc.salas[4].cadeiras"
   ]
  },
  {
   "cell_type": "code",
   "execution_count": 21,
   "metadata": {},
   "outputs": [
    {
     "data": {
      "text/plain": [
       "<__main__.Cadeira at 0x10992cf98>"
      ]
     },
     "execution_count": 21,
     "metadata": {},
     "output_type": "execute_result"
    }
   ],
   "source": [
    "primeira_cadeira = Cadeira(movel = False, altura = 80, tecido = 'linho')\n",
    "primeira_cadeira"
   ]
  },
  {
   "cell_type": "code",
   "execution_count": 32,
   "metadata": {},
   "outputs": [
    {
     "data": {
      "text/plain": [
       "[]"
      ]
     },
     "execution_count": 32,
     "metadata": {},
     "output_type": "execute_result"
    }
   ],
   "source": [
    "sala = Sala(4)\n",
    "sala.cadeiras"
   ]
  },
  {
   "cell_type": "code",
   "execution_count": 33,
   "metadata": {},
   "outputs": [],
   "source": [
    "sala.cadeiras.append(primeira_cadeira)"
   ]
  },
  {
   "cell_type": "code",
   "execution_count": 38,
   "metadata": {},
   "outputs": [
    {
     "name": "stdout",
     "output_type": "stream",
     "text": [
      "< Sala 4, com 1 cadeiras>\n"
     ]
    }
   ],
   "source": [
    "print(sala)"
   ]
  },
  {
   "cell_type": "code",
   "execution_count": 34,
   "metadata": {},
   "outputs": [
    {
     "data": {
      "text/plain": [
       "[<__main__.Cadeira at 0x10992cf98>]"
      ]
     },
     "execution_count": 34,
     "metadata": {},
     "output_type": "execute_result"
    }
   ],
   "source": [
    "sala.cadeiras"
   ]
  },
  {
   "cell_type": "code",
   "execution_count": 22,
   "metadata": {},
   "outputs": [
    {
     "data": {
      "text/plain": [
       "<__main__.Cadeira at 0x10992cd68>"
      ]
     },
     "execution_count": 22,
     "metadata": {},
     "output_type": "execute_result"
    }
   ],
   "source": [
    "segunda_cadeira = Cadeira(tecido = 'camurça')\n",
    "segunda_cadeira"
   ]
  },
  {
   "cell_type": "code",
   "execution_count": 17,
   "metadata": {},
   "outputs": [
    {
     "name": "stdout",
     "output_type": "stream",
     "text": [
      "90\n",
      "100\n"
     ]
    }
   ],
   "source": [
    "print(primeira_cadeira.altura)\n",
    "primeira_cadeira.sobe(10)\n",
    "print(primeira_cadeira.altura)"
   ]
  },
  {
   "cell_type": "code",
   "execution_count": 16,
   "metadata": {},
   "outputs": [
    {
     "name": "stdout",
     "output_type": "stream",
     "text": [
      "20\n",
      "30\n"
     ]
    }
   ],
   "source": [
    "print(segunda_cadeira.altura)\n",
    "segunda_cadeira.sobe(10)\n",
    "print(segunda_cadeira.altura)"
   ]
  },
  {
   "cell_type": "code",
   "execution_count": 24,
   "metadata": {},
   "outputs": [],
   "source": [
    "primeira_cadeira.empilhar(segunda_cadeira)"
   ]
  },
  {
   "cell_type": "code",
   "execution_count": 25,
   "metadata": {},
   "outputs": [
    {
     "data": {
      "text/plain": [
       "<__main__.Cadeira at 0x10992cd68>"
      ]
     },
     "execution_count": 25,
     "metadata": {},
     "output_type": "execute_result"
    }
   ],
   "source": [
    "segunda_cadeira"
   ]
  },
  {
   "cell_type": "code",
   "execution_count": 26,
   "metadata": {},
   "outputs": [
    {
     "data": {
      "text/plain": [
       "<__main__.Cadeira at 0x10992cd68>"
      ]
     },
     "execution_count": 26,
     "metadata": {},
     "output_type": "execute_result"
    }
   ],
   "source": [
    "primeira_cadeira.por_cima"
   ]
  },
  {
   "cell_type": "markdown",
   "metadata": {},
   "source": [
    "1. Crie uma classe Televisão e uma classe controle remoto que pode controlar o volume e trocar os canais da televisão. O controle de volume permite:\n",
    "\n",
    "    - aumentar ou diminuir a potência do volume de som em uma unidade de cada vez; \n",
    "    - trocar para um canal indicado; \n",
    "    - consultar o valor do volume de som e o canal selecionado."
   ]
  },
  {
   "cell_type": "code",
   "execution_count": null,
   "metadata": {},
   "outputs": [],
   "source": []
  },
  {
   "cell_type": "markdown",
   "metadata": {},
   "source": [
    "2. Um cliente pediu que criássemos um sistema de agenda. Essa agenda deve ser capaz de armazenar os contatos, fazendo operações de inclusão, remoção, busca e listagem. Escreva as classes e métodos que você imagina para resolver esse problema usando orientação a objetos.\n",
    "\n",
    "*dica: crie um método e coloque a palavra `pass` para que ele exista mas não seja implementado*\n",
    "\n",
    "    def metodo(self):\n",
    "        pass"
   ]
  },
  {
   "cell_type": "code",
   "execution_count": null,
   "metadata": {},
   "outputs": [],
   "source": []
  },
  {
   "cell_type": "markdown",
   "metadata": {},
   "source": [
    "3. Construa uma classe Bola cujos atributos são raio e cor. Crie métodos para exibir o objeto (raio e cor), para calcular a área (obs. a área da esfera é `4*pi*r*r/3`) e para calcular o volume (obs. o volume de uma esfera é `4*pi*r**3`)."
   ]
  },
  {
   "cell_type": "code",
   "execution_count": null,
   "metadata": {},
   "outputs": [],
   "source": []
  },
  {
   "cell_type": "markdown",
   "metadata": {},
   "source": [
    "4. Vamos fazer um sistema para um banco bem pequeno, que está começando agora. Precisamos começar a codificar a primeira versão do back-end, usando python e orientação a objetos. A classe Cliente já está definida, possuindo os atributos `nome`, `email` e `cpf`. Agora precisamos criar a **conta bancária**. Toda conta bancária deve:\n",
    "    - Ter o atributo cliente\n",
    "    - Ter como sacar uma quantidade de dinheiro\n",
    "    - Ter como depositar uma quantidade de dinheiro\n",
    "    - Poder transferir uma quantidade de dinheiro para outra conta"
   ]
  },
  {
   "cell_type": "code",
   "execution_count": 1,
   "metadata": {},
   "outputs": [],
   "source": [
    "class Cliente():\n",
    "    def __init__(self, nome, email, cpf):\n",
    "        self.nome = nome\n",
    "        self.email = email\n",
    "        self.cpf = cpf\n",
    "    def __repr__(self):\n",
    "        return 'Nome: {}\\nEmail:{}\\nCPF: {}'.format(self.nome, self.email, self.cpf)"
   ]
  },
  {
   "cell_type": "code",
   "execution_count": null,
   "metadata": {},
   "outputs": [],
   "source": []
  },
  {
   "cell_type": "markdown",
   "metadata": {},
   "source": [
    "5. Estamos construindo nossa base para o jogo do pokémon simplificado. Basicamente, são pequenos monstros que podem ser capturados e usados em batalhas com outros pequenos monstros. Um `Treinador` é uma pessoa que tem um `nome`, `pokebolas` e `pokemons`. Um `Pokemon` tem `nome`, `tipo`, `hp`, `som` e `dano` (quanto de dano dá numa batalha). \n",
    "\n",
    "    Um treinador pode capturar um pokemon, desde que tenha pokébolas disponíveis. Um pokemon pode atacar algo, desde que esse algo seja um pokémon também. Se ele tentar atacar outro pokémon, ele mesmo reduz sua vida em 10 pontos.\n",
    "\n",
    "    Essas duas representações são dadas:"
   ]
  },
  {
   "cell_type": "code",
   "execution_count": 2,
   "metadata": {},
   "outputs": [],
   "source": [
    "import random\n",
    "\n",
    "class Treinador():\n",
    "    def __init__(self, nome, pokemons = []):\n",
    "        self.nome = nome\n",
    "        self.pokemons = pokemons\n",
    "        self.pokebolas = 1\n",
    "\n",
    "    def trocar(self, outro_treinador):\n",
    "        pass\n",
    "    \n",
    "    # Tenta capturar um pokémon\n",
    "    def capturar(self, pokemon):\n",
    "        if self.pokebolas == 0:\n",
    "            return 'No pokeballs!'\n",
    "        \n",
    "        if random.randint(0, 100) > 20:\n",
    "            self.pokemons.append(pokemon)\n",
    "            return '{} added to your pokedex!'.format(pokemon.nome)\n",
    "        else:\n",
    "            return '{} ran away!'.format(pokemon.nome)\n",
    "        self.pokebolas -= 1\n",
    "\n",
    "    def get_pokemon_number(self):\n",
    "        return len(self.pokemons)\n",
    "    \n",
    "class Pokemon():\n",
    "    def __init__(self, nome, tipo, hp, som = 'hmm', dano = 10):\n",
    "        # atributos da classe\n",
    "        self.nome = nome\n",
    "        self.tipo = tipo\n",
    "        self.hp = hp\n",
    "        self.som = som\n",
    "        self.dano = dano\n",
    "    \n",
    "    def __repr__(self):\n",
    "        return '{}, do tipo {} <{}>'.format(self.nome, self.tipo, self.som)\n",
    "\n",
    "    def get_hp(self):\n",
    "        return self.hp\n",
    "    def aumentar_hp(self, quantidade):\n",
    "        self.hp += quantidade\n",
    "    def diminuir_hp(self, quantidade):\n",
    "        self.hp -= quantidade\n",
    "    def emitir_som(self):\n",
    "        return '<POKESOM> {}'.format(self.som)\n",
    "    \n",
    "    def atacar(self, outro_pokemon):\n",
    "        if not isinstance(outro_pokemon, Pokemon):\n",
    "            self.diminuir_hp(10)\n",
    "            return\n",
    "        \n",
    "        outro_pokemon.diminuir_hp(self.dano)"
   ]
  },
  {
   "cell_type": "markdown",
   "metadata": {},
   "source": [
    "Primeiro, leia e entenda o que as classes acima estão fazendo. Relacione com os atributos com as descrições de características e os métodos com as ações de cada objeto.\n",
    "Agora, os desafios:\n",
    "\n",
    "1. Como fazer com que um pokemon não tenha vida negativa quando sofre um ataque?\n",
    "2. Precisamos fazer um upgrade no jogo para permitir o uso de itens! Para isso, vamos assumir que um treinador tem uma `Mochila` para guardar esses itens. Cada mochila pode receber, no máximo, 15 itens. Cada `Item` tem um nome e uma ação. Nós não precisamos programa a ação do item.\n",
    "    - Como fazemos para representar essa mochila?\n",
    "    - Como fazemos para que o treinador tenha uma mochila?\n",
    "    - Como fazemos para representar um item?\n",
    "    - Como fazemos para colocar itens na mochila do treinador? Imagine que o treinador encontrou um item no jogo, como programamos para que seja possível adicioná-lo na mochila?\n",
    "    - Como podemos saber se a mochila está vazia ou cheia?\n",
    "3. Pense em como podemos fazer com que um treinador possa usar um item em um pokémon."
   ]
  },
  {
   "cell_type": "code",
   "execution_count": null,
   "metadata": {},
   "outputs": [],
   "source": []
  }
 ],
 "metadata": {
  "kernelspec": {
   "display_name": "Python 3",
   "language": "python",
   "name": "python3"
  },
  "language_info": {
   "codemirror_mode": {
    "name": "ipython",
    "version": 3
   },
   "file_extension": ".py",
   "mimetype": "text/x-python",
   "name": "python",
   "nbconvert_exporter": "python",
   "pygments_lexer": "ipython3",
   "version": "3.7.3"
  }
 },
 "nbformat": 4,
 "nbformat_minor": 2
}
