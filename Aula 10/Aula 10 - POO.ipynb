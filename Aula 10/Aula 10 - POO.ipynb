{
 "cells": [
  {
   "cell_type": "code",
   "execution_count": 1,
   "metadata": {},
   "outputs": [],
   "source": [
    "pokemon = {\n",
    "    'nome': 'Squirtle', \n",
    "    'tipo': 'água',\n",
    "    'hp': 150\n",
    "}"
   ]
  },
  {
   "cell_type": "code",
   "execution_count": 33,
   "metadata": {},
   "outputs": [],
   "source": [
    "class Contador():\n",
    "    def __init__(self):\n",
    "        self.valor = 0\n",
    "    \n",
    "    def conta(self):\n",
    "        self.valor += 1\n",
    "        return self.valor\n",
    "    \n",
    "    def status(self):\n",
    "        return self.valor\n",
    "\n",
    "    def compara(self, outro_contador):\n",
    "        if self.valor > outro_contador.status():\n",
    "            return 'maior'\n",
    "        elif self.valor == outro_contador.status():\n",
    "            return 'igual'\n",
    "        else:\n",
    "            return 'menor'"
   ]
  },
  {
   "cell_type": "code",
   "execution_count": 36,
   "metadata": {},
   "outputs": [],
   "source": [
    "contador1 = Contador()"
   ]
  },
  {
   "cell_type": "code",
   "execution_count": 37,
   "metadata": {},
   "outputs": [
    {
     "data": {
      "text/plain": [
       "<__main__.Contador at 0x110240780>"
      ]
     },
     "execution_count": 37,
     "metadata": {},
     "output_type": "execute_result"
    }
   ],
   "source": [
    "contador1"
   ]
  },
  {
   "cell_type": "code",
   "execution_count": 39,
   "metadata": {},
   "outputs": [
    {
     "data": {
      "text/plain": [
       "2"
      ]
     },
     "execution_count": 39,
     "metadata": {},
     "output_type": "execute_result"
    }
   ],
   "source": [
    "contador1.conta()"
   ]
  },
  {
   "cell_type": "code",
   "execution_count": 40,
   "metadata": {},
   "outputs": [
    {
     "data": {
      "text/plain": [
       "2"
      ]
     },
     "execution_count": 40,
     "metadata": {},
     "output_type": "execute_result"
    }
   ],
   "source": [
    "contador1.status()"
   ]
  },
  {
   "cell_type": "code",
   "execution_count": 41,
   "metadata": {},
   "outputs": [],
   "source": [
    "contador2 = Contador()"
   ]
  },
  {
   "cell_type": "code",
   "execution_count": 46,
   "metadata": {},
   "outputs": [
    {
     "data": {
      "text/plain": [
       "3"
      ]
     },
     "execution_count": 46,
     "metadata": {},
     "output_type": "execute_result"
    }
   ],
   "source": [
    "contador2.conta()"
   ]
  },
  {
   "cell_type": "code",
   "execution_count": 47,
   "metadata": {},
   "outputs": [
    {
     "data": {
      "text/plain": [
       "'menor'"
      ]
     },
     "execution_count": 47,
     "metadata": {},
     "output_type": "execute_result"
    }
   ],
   "source": [
    "contador1.compara(contador2)"
   ]
  },
  {
   "cell_type": "code",
   "execution_count": 111,
   "metadata": {},
   "outputs": [],
   "source": [
    "class Pokemon():\n",
    "    def __init__(self, nome_para_construcao, tipo, hp):\n",
    "        self.nome = nome_para_construcao\n",
    "        self.tipo = tipo\n",
    "        self.hp = hp\n",
    "    \n",
    "    def aumentar_hp(self, hp):\n",
    "        self.hp += hp"
   ]
  },
  {
   "cell_type": "code",
   "execution_count": 52,
   "metadata": {},
   "outputs": [],
   "source": [
    "pikachu = Pokemon('Pikachu', 'água', 100)"
   ]
  },
  {
   "cell_type": "code",
   "execution_count": 53,
   "metadata": {},
   "outputs": [
    {
     "data": {
      "text/plain": [
       "<__main__.Pokemon at 0x11023c470>"
      ]
     },
     "execution_count": 53,
     "metadata": {},
     "output_type": "execute_result"
    }
   ],
   "source": [
    "pikachu"
   ]
  },
  {
   "cell_type": "code",
   "execution_count": 55,
   "metadata": {},
   "outputs": [],
   "source": [
    "pikachu.set_nome('Charmander')"
   ]
  },
  {
   "cell_type": "code",
   "execution_count": 57,
   "metadata": {},
   "outputs": [
    {
     "data": {
      "text/plain": [
       "'Charmander'"
      ]
     },
     "execution_count": 57,
     "metadata": {},
     "output_type": "execute_result"
    }
   ],
   "source": [
    "pikachu.nome"
   ]
  },
  {
   "cell_type": "code",
   "execution_count": 72,
   "metadata": {},
   "outputs": [],
   "source": [
    "class ArCondicionado():\n",
    "    def __init__(self):\n",
    "        self.temperatura = 18\n",
    "        self.ligado = False\n",
    "    \n",
    "    def ligar(self):\n",
    "        if not self.ligado:\n",
    "            self.ligado = True\n",
    "        else:\n",
    "            return 'Já está ligado'\n",
    "    \n",
    "    def desligar(self):\n",
    "        if self.ligado:\n",
    "            self.ligado = False\n",
    "        else:\n",
    "            return 'Já está desligado'\n",
    "        "
   ]
  },
  {
   "cell_type": "code",
   "execution_count": 73,
   "metadata": {},
   "outputs": [],
   "source": [
    "sala_4_ac = ArCondicionado()"
   ]
  },
  {
   "cell_type": "code",
   "execution_count": 79,
   "metadata": {},
   "outputs": [
    {
     "data": {
      "text/plain": [
       "False"
      ]
     },
     "execution_count": 79,
     "metadata": {},
     "output_type": "execute_result"
    }
   ],
   "source": [
    "sala_4_ac.ligado"
   ]
  },
  {
   "cell_type": "code",
   "execution_count": 77,
   "metadata": {},
   "outputs": [
    {
     "data": {
      "text/plain": [
       "'Já está ligado'"
      ]
     },
     "execution_count": 77,
     "metadata": {},
     "output_type": "execute_result"
    }
   ],
   "source": [
    "sala_4_ac.ligar()"
   ]
  },
  {
   "cell_type": "code",
   "execution_count": 78,
   "metadata": {},
   "outputs": [],
   "source": [
    "sala_4_ac.desligar()"
   ]
  },
  {
   "cell_type": "code",
   "execution_count": 197,
   "metadata": {},
   "outputs": [],
   "source": [
    "class Pokemon():\n",
    "    def __init__(self, nome_para_construcao, tipo, hp):\n",
    "        self.nome = nome_para_construcao\n",
    "        self.tipo = tipo\n",
    "        self.hp = hp\n",
    "    \n",
    "    def aumentar_hp(self, hp):\n",
    "        self.hp += hp\n",
    "    \n",
    "    def __repr__(self):\n",
    "        return '<{}, hp: {}>'.format(self.nome, self.hp)\n",
    "        \n",
    "class Treinador():\n",
    "    # Toda vez que usamos argumentos opcionais (com valores default)\n",
    "    # tudo à direita deve ter um valor default também\n",
    "    def __init__(self, nome = 'Ash', cidade = 'Pallet'):\n",
    "        self.nome = nome\n",
    "        self.cidade = cidade\n",
    "        self.pokemons = []\n",
    "        self.storage = []\n",
    "    \n",
    "    def capturar(self, pokemon_selvagem):\n",
    "        if not isinstance(pokemon_selvagem, Pokemon):\n",
    "            return 'Não é um pokémon!'\n",
    "        elif len(self.pokemons) == 6:\n",
    "            return 'Não tem mais espaço. Transfira primeiro'\n",
    "        else:\n",
    "            self.pokemons.append(pokemon_selvagem)\n",
    "            return 'Capturado!'\n",
    "    \n",
    "    def remover(self, nome_pokemon):\n",
    "        para_transferencia = [] # essa lista guarda todos os pokes para transferir\n",
    "        # Buscando todos os pokemons que serão transferidos\n",
    "        for pokemon in self.pokemons:\n",
    "            if pokemon.nome == nome_pokemon:\n",
    "                para_transferencia.append(pokemon)\n",
    "        \n",
    "        # Para cada pokemon que será transferido,\n",
    "        # Adicionamos no storage e removemos da lista principal\n",
    "        for poke_to_transfer in para_transferencia:\n",
    "            self.storage.append(poke_to_transfer)\n",
    "            self.pokemons.remove(poke_to_transfer)\n",
    "        \n",
    "        if len(para_transferencia) == 0:\n",
    "            return 'Nenhum pokémon encontrado com esse nome'\n",
    "        else:\n",
    "            return '{} pokemons transferidos!'.format(len(para_transferencia))"
   ]
  },
  {
   "cell_type": "code",
   "execution_count": 198,
   "metadata": {},
   "outputs": [],
   "source": [
    "ash = Treinador()"
   ]
  },
  {
   "cell_type": "code",
   "execution_count": 187,
   "metadata": {},
   "outputs": [
    {
     "data": {
      "text/plain": [
       "'Ash'"
      ]
     },
     "execution_count": 187,
     "metadata": {},
     "output_type": "execute_result"
    }
   ],
   "source": [
    "ash.nome"
   ]
  },
  {
   "cell_type": "code",
   "execution_count": 180,
   "metadata": {},
   "outputs": [
    {
     "data": {
      "text/plain": [
       "'Não é um pokémon!'"
      ]
     },
     "execution_count": 180,
     "metadata": {},
     "output_type": "execute_result"
    }
   ],
   "source": [
    "# Ele não pode capturar algo que não seja um pokémon!\n",
    "ash.capturar('Pikachu')"
   ]
  },
  {
   "cell_type": "code",
   "execution_count": 199,
   "metadata": {},
   "outputs": [
    {
     "data": {
      "text/plain": [
       "'Capturado!'"
      ]
     },
     "execution_count": 199,
     "metadata": {},
     "output_type": "execute_result"
    }
   ],
   "source": [
    "pikachu = Pokemon('Pikachu', 'Elétrico', 150)\n",
    "ash.capturar(pikachu)\n",
    "ash.capturar(pikachu)\n",
    "ash.capturar(pikachu)\n",
    "ash.capturar(pikachu)\n",
    "ash.capturar(pikachu)\n",
    "ash.capturar(pikachu)"
   ]
  },
  {
   "cell_type": "code",
   "execution_count": 159,
   "metadata": {},
   "outputs": [],
   "source": [
    "ash.pokemons.remove(pikachu)"
   ]
  },
  {
   "cell_type": "code",
   "execution_count": 162,
   "metadata": {},
   "outputs": [
    {
     "data": {
      "text/plain": [
       "'Capturado!'"
      ]
     },
     "execution_count": 162,
     "metadata": {},
     "output_type": "execute_result"
    }
   ],
   "source": [
    "ash.capturar(pikachu)"
   ]
  },
  {
   "cell_type": "code",
   "execution_count": 190,
   "metadata": {},
   "outputs": [
    {
     "data": {
      "text/plain": [
       "'6 pokemons transferidos!'"
      ]
     },
     "execution_count": 190,
     "metadata": {},
     "output_type": "execute_result"
    }
   ],
   "source": [
    "ash.remover('Pikachu')"
   ]
  },
  {
   "cell_type": "code",
   "execution_count": 200,
   "metadata": {},
   "outputs": [
    {
     "data": {
      "text/plain": [
       "[<Pikachu, hp: 150>,\n",
       " <Pikachu, hp: 150>,\n",
       " <Pikachu, hp: 150>,\n",
       " <Pikachu, hp: 150>,\n",
       " <Pikachu, hp: 150>,\n",
       " <Pikachu, hp: 150>]"
      ]
     },
     "execution_count": 200,
     "metadata": {},
     "output_type": "execute_result"
    }
   ],
   "source": [
    "ash.pokemons"
   ]
  },
  {
   "cell_type": "code",
   "execution_count": 192,
   "metadata": {},
   "outputs": [
    {
     "data": {
      "text/plain": [
       "[<__main__.Pokemon at 0x1102509e8>,\n",
       " <__main__.Pokemon at 0x1102509e8>,\n",
       " <__main__.Pokemon at 0x1102509e8>,\n",
       " <__main__.Pokemon at 0x1102509e8>,\n",
       " <__main__.Pokemon at 0x1102509e8>,\n",
       " <__main__.Pokemon at 0x1102509e8>]"
      ]
     },
     "execution_count": 192,
     "metadata": {},
     "output_type": "execute_result"
    }
   ],
   "source": [
    "ash.storage"
   ]
  },
  {
   "cell_type": "code",
   "execution_count": 166,
   "metadata": {},
   "outputs": [],
   "source": [
    "ash.pokemons[1].nome = 'Charmander'"
   ]
  },
  {
   "cell_type": "code",
   "execution_count": 168,
   "metadata": {},
   "outputs": [
    {
     "data": {
      "text/plain": [
       "'Charmander'"
      ]
     },
     "execution_count": 168,
     "metadata": {},
     "output_type": "execute_result"
    }
   ],
   "source": [
    "ash.pokemons[0].nome"
   ]
  },
  {
   "cell_type": "code",
   "execution_count": 169,
   "metadata": {},
   "outputs": [
    {
     "data": {
      "text/plain": [
       "'Charmander'"
      ]
     },
     "execution_count": 169,
     "metadata": {},
     "output_type": "execute_result"
    }
   ],
   "source": [
    "ash.pokemons[1].nome"
   ]
  },
  {
   "cell_type": "code",
   "execution_count": null,
   "metadata": {},
   "outputs": [],
   "source": []
  }
 ],
 "metadata": {
  "kernelspec": {
   "display_name": "Python 3",
   "language": "python",
   "name": "python3"
  },
  "language_info": {
   "codemirror_mode": {
    "name": "ipython",
    "version": 3
   },
   "file_extension": ".py",
   "mimetype": "text/x-python",
   "name": "python",
   "nbconvert_exporter": "python",
   "pygments_lexer": "ipython3",
   "version": "3.7.3"
  }
 },
 "nbformat": 4,
 "nbformat_minor": 2
}
