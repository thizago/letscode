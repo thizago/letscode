{
 "cells": [
  {
   "cell_type": "code",
   "execution_count": 5,
   "metadata": {},
   "outputs": [
    {
     "name": "stdout",
     "output_type": "stream",
     "text": [
      "110\n"
     ]
    }
   ],
   "source": [
    "def soma(a , b):\n",
    "    return a + b\n",
    "\n",
    "print (soma(45,65))\n"
   ]
  },
  {
   "cell_type": "markdown",
   "metadata": {},
   "source": [
    "### Escreva uma função que recebe n e retorna n!"
   ]
  },
  {
   "cell_type": "code",
   "execution_count": 26,
   "metadata": {},
   "outputs": [
    {
     "name": "stdout",
     "output_type": "stream",
     "text": [
      "710998587804863451854045647463724949736497978881168458687447040000000000000\n"
     ]
    }
   ],
   "source": [
    "def fatorial(numero):\n",
    "    i = 1\n",
    "    x = 1\n",
    "    while i <= numero:\n",
    "        x *= i\n",
    "        i += 1\n",
    "    return x\n",
    "\n",
    "print(fatorial(56))\n"
   ]
  },
  {
   "cell_type": "markdown",
   "metadata": {},
   "source": [
    "### escreva uma lista que recebe uma lista e um valor N. Sua função retorna se n está na lista ou não."
   ]
  },
  {
   "cell_type": "code",
   "execution_count": null,
   "metadata": {},
   "outputs": [],
   "source": [
    "def ta_na_lista(lista , numero):\n",
    "    x = 0\n",
    "    for i in lista:\n",
    "        if i == numero:\n",
    "            return ('está na lista')\n",
    "    return ('não está na lista')\n",
    "        \n",
    "        \n",
    "lista = []\n",
    "i = 1\n",
    "while i <= 5:\n",
    "    x = int(input('Digite um número pra formar a lista de 5 numeros: '))\n",
    "    lista.append(x)\n",
    "    i += 1\n",
    "numero = int(input('Digite um número pra ver se ta na lista: '))\n",
    "print (numero, ta_na_lista(lista, numero))"
   ]
  },
  {
   "cell_type": "code",
   "execution_count": null,
   "metadata": {},
   "outputs": [],
   "source": []
  }
 ],
 "metadata": {
  "kernelspec": {
   "display_name": "Python 3",
   "language": "python",
   "name": "python3"
  },
  "language_info": {
   "codemirror_mode": {
    "name": "ipython",
    "version": 3
   },
   "file_extension": ".py",
   "mimetype": "text/x-python",
   "name": "python",
   "nbconvert_exporter": "python",
   "pygments_lexer": "ipython3",
   "version": "3.7.3"
  }
 },
 "nbformat": 4,
 "nbformat_minor": 2
}
