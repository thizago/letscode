{
 "cells": [
  {
   "cell_type": "code",
   "execution_count": null,
   "metadata": {},
   "outputs": [],
   "source": [
    "def jogo():\n",
    "    print('Bem vindos ao jogo de 21')\n",
    "    quant_jogadores = int(input('Quantas pessoas irão jogar? '))\n",
    "    jogadores = []\n",
    "    i = 0\n",
    "    while i < quant_jogadores:\n",
    "        jogadores.append(input('Nome do Jogador: '))\n",
    "        i += 1"
   ]
  },
  {
   "cell_type": "code",
   "execution_count": null,
   "metadata": {},
   "outputs": [],
   "source": [
    "def baralho():\n",
    "    baralho = ['A',2,3,4,5,6,7,8,9,10,'J','Q','K']\n",
    "    baralho *= 4\n",
    "    return baralho"
   ]
  },
  {
   "cell_type": "code",
   "execution_count": null,
   "metadata": {},
   "outputs": [],
   "source": [
    "def jogada(jogador, ativo):\n",
    "    if ativo:\n",
    "         h\n",
    "        \n",
    "    \n",
    "    \n",
    "    \n",
    "    "
   ]
  }
 ],
 "metadata": {
  "kernelspec": {
   "display_name": "Python 3",
   "language": "python",
   "name": "python3"
  },
  "language_info": {
   "codemirror_mode": {
    "name": "ipython",
    "version": 3
   },
   "file_extension": ".py",
   "mimetype": "text/x-python",
   "name": "python",
   "nbconvert_exporter": "python",
   "pygments_lexer": "ipython3",
   "version": "3.7.3"
  }
 },
 "nbformat": 4,
 "nbformat_minor": 2
}
