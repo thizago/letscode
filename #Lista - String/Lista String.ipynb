{
 "cells": [
  {
   "cell_type": "markdown",
   "metadata": {},
   "source": [
    "### 1. Faça um programa que pede para o usuário digitar uma palavra e imprima cada letra em uma linha."
   ]
  },
  {
   "cell_type": "code",
   "execution_count": 78,
   "metadata": {},
   "outputs": [
    {
     "name": "stdout",
     "output_type": "stream",
     "text": [
      "Digite uma palavra: Thiago Rosa\n",
      "T\n",
      "h\n",
      "i\n",
      "a\n",
      "g\n",
      "o\n",
      " \n",
      "R\n",
      "o\n",
      "s\n",
      "a\n"
     ]
    }
   ],
   "source": [
    "palavra = input('Digite uma palavra: ')\n",
    "for i in palavra:\n",
    "    print (i)"
   ]
  },
  {
   "cell_type": "markdown",
   "metadata": {},
   "source": [
    "### 2. Faça um programa que pede para o usuário digitar uma palavra e cria uma nova string igual, copiando letra por letra, depois imprima a nova string"
   ]
  },
  {
   "cell_type": "code",
   "execution_count": 79,
   "metadata": {},
   "outputs": [
    {
     "name": "stdout",
     "output_type": "stream",
     "text": [
      "Digite uma palavra: Thiago\n",
      "Thiago\n"
     ]
    }
   ],
   "source": [
    "palavra = input('Digite uma palavra: ')\n",
    "palavra_2 = ''\n",
    "for letra in palavra:\n",
    "    palavra_2 += letra\n",
    "    \n",
    "print(palavra_2)"
   ]
  },
  {
   "cell_type": "markdown",
   "metadata": {},
   "source": [
    "### 3. Altere o exercício anterior para que a string copiada alterne entre letras maiúsculas e minúsculas"
   ]
  },
  {
   "cell_type": "code",
   "execution_count": 10,
   "metadata": {},
   "outputs": [
    {
     "name": "stdout",
     "output_type": "stream",
     "text": [
      "Digite uma palavra: Oi, Mundo\n",
      "Oi, MuNdO\n"
     ]
    }
   ],
   "source": [
    "def eh_par(indice):\n",
    "    if indice % 2 == 0:\n",
    "        return True\n",
    "    else:\n",
    "        return False\n",
    "\n",
    "\n",
    "palavra = input('Digite uma palavra: ')\n",
    "palavra_2 = ''\n",
    "\n",
    "i = 0\n",
    "for letra in palavra:\n",
    "    if eh_par(i):\n",
    "        palavra_2 += letra.upper()\n",
    "    else:\n",
    "        palavra_2 += letra.lower()\n",
    "    i += 1\n",
    "    \n",
    "print(palavra_2)"
   ]
  },
  {
   "cell_type": "markdown",
   "metadata": {},
   "source": [
    "### 4. Faça um programa que pede para o usuário digitar uma palavra e cria uma nova string igual, porém com espaço entre cada letra, depois imprima a nova string:\n",
    "> Ex: se o usuário digitar \"python\" o programa deve imprimir \"p y t h o n \""
   ]
  },
  {
   "cell_type": "code",
   "execution_count": 12,
   "metadata": {},
   "outputs": [
    {
     "name": "stdout",
     "output_type": "stream",
     "text": [
      "Digite uma palavra: palavra\n",
      "p a l a v r a \n"
     ]
    }
   ],
   "source": [
    "palavra = input('Digite uma palavra: ')\n",
    "palavra_space = ''\n",
    "for letra in palavra:\n",
    "    palavra_space += letra + ' '\n",
    "    \n",
    "print (palavra_space)\n",
    "    "
   ]
  },
  {
   "cell_type": "markdown",
   "metadata": {},
   "source": [
    "### 5. Faça uma função que receba uma string e retorne uma nova string substituindo:\n",
    "\n",
    ">'a' por '4'\n",
    "\n",
    ">'e' por '3'\n",
    "\n",
    ">'I' por '1'\n",
    "\n",
    ">'t' por '7'"
   ]
  },
  {
   "cell_type": "code",
   "execution_count": 76,
   "metadata": {},
   "outputs": [
    {
     "name": "stdout",
     "output_type": "stream",
     "text": [
      "P4R3N73S1S\n"
     ]
    }
   ],
   "source": [
    "def letranum(palavra):\n",
    "    nova_palavra = ''\n",
    "    for letra in palavra:\n",
    "        if letra == 'A': letra = '4' \n",
    "        if letra == 'E': letra = '3' \n",
    "        if letra == 'I': letra = '1' \n",
    "        if letra == 'T': letra = '7' \n",
    "        nova_palavra += letra\n",
    "    return nova_palavra\n",
    "        \n",
    "print (letranum('PARENTESIS'))\n",
    "        "
   ]
  },
  {
   "cell_type": "markdown",
   "metadata": {},
   "source": [
    "### 6. Faça uma função que recebe uma string e retorna ela ao contrário.\n",
    "> Exemplo: recebe \"teste\" retorna \"etset\""
   ]
  },
  {
   "cell_type": "code",
   "execution_count": 8,
   "metadata": {},
   "outputs": [
    {
     "name": "stdout",
     "output_type": "stream",
     "text": [
      "alimaC\n"
     ]
    }
   ],
   "source": [
    "def anagrama(palavra):\n",
    "    return (palavra[::-1])\n",
    "\n",
    "print (anagrama('Camila'))\n",
    "    \n",
    "    "
   ]
  },
  {
   "cell_type": "markdown",
   "metadata": {},
   "source": [
    "### 7. Agora faça uma função que recebe uma palavra e diz se ela é um palíndromo, ou seja, se ela é igual a ela mesma ao contrário.\n",
    "> Dica: use a função do exercício 5."
   ]
  },
  {
   "cell_type": "code",
   "execution_count": 14,
   "metadata": {},
   "outputs": [
    {
     "name": "stdout",
     "output_type": "stream",
     "text": [
      "Digite palavra: kjdfnda\n",
      "kjdfnda = adnfdjk né palindromo\n"
     ]
    }
   ],
   "source": [
    "def eh_palindromo(palavra):\n",
    "    return \"é palindromo\" if palavra == anagrama(palavra) else 'né palindromo'\n",
    "\n",
    "palavra = input('Digite palavra: ')\n",
    "print (palavra,'=',anagrama(palavra), eh_palindromo(palavra))"
   ]
  },
  {
   "cell_type": "markdown",
   "metadata": {},
   "source": [
    "### 8. Faça uma função que receba um texto e uma palavra, então verifique se a palavra está no texto e retorne True ou False"
   ]
  },
  {
   "cell_type": "code",
   "execution_count": 77,
   "metadata": {},
   "outputs": [
    {
     "name": "stdout",
     "output_type": "stream",
     "text": [
      "Digite uma frase: oi tudo bem\n",
      "Digite uma palavra: oi\n",
      "True\n"
     ]
    }
   ],
   "source": [
    "def se_esta(palavra,frase):\n",
    "    lista_frase = frase.split()\n",
    "    if palavra in lista_frase:\n",
    "        return True\n",
    "    else:\n",
    "        return False\n",
    "    \n",
    "mensagem = input('Digite uma frase: ')\n",
    "palavra = input('Digite uma palavra: ')\n",
    "print (se_esta(palavra, mensagem))\n",
    "    \n"
   ]
  },
  {
   "cell_type": "markdown",
   "metadata": {},
   "source": [
    "### 9. Faça uma função que receba um string que contém tanto números quanto letras e caracteres, e que separe as letras em uma variável e os números em outra (os caracteres podem ser descartados). Ao final o programa deve imprimir as duas variáveis"
   ]
  },
  {
   "cell_type": "code",
   "execution_count": 57,
   "metadata": {},
   "outputs": [
    {
     "name": "stdout",
     "output_type": "stream",
     "text": [
      "Digite qualquer coisa: 45g346g65g356h5635\n",
      "\n",
      "Numeros: 45346653565635\n",
      "Letras:  gggh\n"
     ]
    }
   ],
   "source": [
    "def alfanum(string):\n",
    "    alfa = ''\n",
    "    num = ''\n",
    "    for caracter in string:\n",
    "        if caracter.isnumeric():\n",
    "            num += caracter\n",
    "        if caracter.isalpha():\n",
    "            alfa += caracter\n",
    "    print ('\\nNumeros:',num)\n",
    "    print ('Letras: ',alfa)\n",
    "    \n",
    "mensagem = input('Digite qualquer coisa: ')\n",
    "alfanum(mensagem)"
   ]
  },
  {
   "cell_type": "markdown",
   "metadata": {},
   "source": [
    "# Desafio"
   ]
  },
  {
   "cell_type": "markdown",
   "metadata": {},
   "source": [
    "### 1. Faça uma função que receba um string e uma letra e:\n",
    "\n",
    ">a. imprima quantas vezes a letra aparece no string.\n",
    "\n",
    ">b. imprima todas as posições em que a letra aparece no string.\n",
    "\n",
    ">c. retorne a distância entre a primeira e última aparição dessa letra."
   ]
  },
  {
   "cell_type": "code",
   "execution_count": 48,
   "metadata": {},
   "outputs": [
    {
     "name": "stdout",
     "output_type": "stream",
     "text": [
      "Digite qualquer coisa: ahjgjhgjhghgajhgjhgjhghgajhgjhgjg\n",
      "letra: a\n",
      "O caracter a  repete  3 vezes nas posições [1, 13, 25] .\n",
      " 24 a distancia entre a primeira e ultima ocorrencia.\n"
     ]
    }
   ],
   "source": [
    "def desafio(string,letra):\n",
    "  repete = 0\n",
    "  posicoes = []\n",
    "  posicao = 1\n",
    "  distancia = 'não se aplica'\n",
    "  for char in string:\n",
    "    if char == letra:\n",
    "      repete += 1\n",
    "      posicoes.append(posicao)\n",
    "    posicao += 1\n",
    "    if repete > 1 :\n",
    "      distancia = posicoes[-1] - posicoes[0] \n",
    "    \n",
    "  print ('O caracter' , letra , ' repete ' , repete , 'vezes nas posições' , posicoes , '.\\n', distancia , 'a distancia entre a primeira e ultima ocorrencia.')\n",
    "\n",
    "string = input('Digite qualquer coisa: ')\n",
    "letra = input('letra: ')\n",
    "desafio(string,letra)"
   ]
  },
  {
   "cell_type": "markdown",
   "metadata": {},
   "source": [
    "### 2. Super Desafio! - faça uma função que criptografa uma mensagem substituindo cada letra pela letra oposta do dicionário:\n",
    ">'a' por 'z'\n",
    "\n",
    ">'b' por 'y'\n",
    "\n",
    ">'c' por 'x'"
   ]
  },
  {
   "cell_type": "code",
   "execution_count": 47,
   "metadata": {},
   "outputs": [
    {
     "name": "stdout",
     "output_type": "stream",
     "text": [
      "Digite uma palavra a ser criptografada: zxxwvut\n",
      "accdefg\n"
     ]
    }
   ],
   "source": [
    "def cripto(string):\n",
    "    alfabeto = ['','a','b','c','d','e','f','g','h','i','j','k','l','m','n','o','p','q','r','s','t','u','v','w','x','y','z']\n",
    "    criptografada = ''\n",
    "    for letra in string:\n",
    "        cont = 1\n",
    "        while cont < len(alfabeto):\n",
    "            if alfabeto[cont] == letra:\n",
    "                criptografada += alfabeto[-cont]\n",
    "            cont += 1\n",
    "    print (criptografada)\n",
    "    \n",
    "mensagem = input('Digite uma palavra a ser criptografada: ')\n",
    "cripto(mensagem)"
   ]
  },
  {
   "cell_type": "markdown",
   "metadata": {},
   "source": [
    "### Pedra Papel Tesoura"
   ]
  },
  {
   "cell_type": "code",
   "execution_count": null,
   "metadata": {},
   "outputs": [],
   "source": [
    "print ('Bem vindo ao Pedra Papel e Tesoura do Python! \\n ----------------------------------------')\n",
    "\n",
    "def jogada(arma):\n",
    "    opcoes = ['pedra' , 'papel' , 'tesoura']\n",
    "    \n",
    "    "
   ]
  }
 ],
 "metadata": {
  "kernelspec": {
   "display_name": "Python 3",
   "language": "python",
   "name": "python3"
  },
  "language_info": {
   "codemirror_mode": {
    "name": "ipython",
    "version": 3
   },
   "file_extension": ".py",
   "mimetype": "text/x-python",
   "name": "python",
   "nbconvert_exporter": "python",
   "pygments_lexer": "ipython3",
   "version": "3.7.3"
  }
 },
 "nbformat": 4,
 "nbformat_minor": 2
}
